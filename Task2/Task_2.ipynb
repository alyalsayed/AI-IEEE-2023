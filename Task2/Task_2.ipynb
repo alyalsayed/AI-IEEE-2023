{
 "cells": [
  {
   "cell_type": "markdown",
   "id": "a781061f",
   "metadata": {},
   "source": [
    "# Task2"
   ]
  },
  {
   "cell_type": "markdown",
   "id": "e18bfa7b",
   "metadata": {},
   "source": [
    "1. Given a list of integers, write a function to sort a list and another function to return the first and last appearance of a given target in the sorted list.<br>\n",
    "ex:.<br>\n",
    "Input:.<br>\n",
    "1 4 5 4 4 1 2 3.<br>\n",
    "4.<br>\n",
    "Output:.<br>\n",
    "4 6.<br>"
   ]
  },
  {
   "cell_type": "code",
   "execution_count": 32,
   "id": "d9ecd814",
   "metadata": {},
   "outputs": [],
   "source": [
    "def get_first_and_last(my_list,target):\n",
    "    first=my_list.index(target)\n",
    "    last=(len(my_list)-1)-(my_list[::-1].index(target))\n",
    "    return first, last"
   ]
  },
  {
   "cell_type": "code",
   "execution_count": 27,
   "id": "3eac769e",
   "metadata": {},
   "outputs": [
    {
     "data": {
      "text/plain": [
       "[1, 1, 2, 3, 4, 4, 4, 5]"
      ]
     },
     "execution_count": 27,
     "metadata": {},
     "output_type": "execute_result"
    }
   ],
   "source": [
    "test=[1 ,4 ,5, 4, 4 ,1, 2, 3]\n",
    "target=4\n",
    "my_sort(test)\n",
    "test\n"
   ]
  },
  {
   "cell_type": "code",
   "execution_count": 24,
   "id": "f57d2662",
   "metadata": {},
   "outputs": [
    {
     "data": {
      "text/plain": [
       "(4, 6)"
      ]
     },
     "execution_count": 24,
     "metadata": {},
     "output_type": "execute_result"
    }
   ],
   "source": [
    "get_first_and_last(test,target)"
   ]
  },
  {
   "cell_type": "markdown",
   "id": "2b02511b",
   "metadata": {},
   "source": [
    "2. Write a program to get the count of even numbers in a given list. [make use of lambda expression]<br>\n",
    "ex:<br>\n",
    "Input:<br>\n",
    "1 4 5 2 6 0 12 7<br>\n",
    "Output:<br>\n",
    "5"
   ]
  },
  {
   "cell_type": "code",
   "execution_count": 33,
   "id": "dcfa9c58",
   "metadata": {},
   "outputs": [
    {
     "data": {
      "text/plain": [
       "5"
      ]
     },
     "execution_count": 33,
     "metadata": {},
     "output_type": "execute_result"
    }
   ],
   "source": [
    "test=[1, 4, 5, 2 ,6,0 ,12 ,7]\n",
    "y=len(list(filter(lambda x:(x%2==0),test)))\n",
    "y"
   ]
  },
  {
   "cell_type": "markdown",
   "id": "9857cf97",
   "metadata": {},
   "source": [
    "3. Write a program that asks the user for a list of integers, then get the sub list that results in the largest sum and the sub list that results in the smallest sum. Print the two sub lists and their sum. Handle any possible errors. [Len(sublist) > 1].\n",
    "ex:<br>\n",
    "Input:<br>\n",
    "5 4 -1 7 8<br>\n",
    "Output:<br>\n",
    "[8, 5, 4, 7] (24)<br>\n",
    "[-1, 4] (3)<br>\n"
   ]
  },
  {
   "cell_type": "code",
   "execution_count": 91,
   "id": "bc0e3d21",
   "metadata": {},
   "outputs": [],
   "source": [
    "def largest_sum(test): \n",
    "    new=sorted(test)\n",
    "    rev=list(reversed(sorted(new)))\n",
    "    ans=[rev[0]]\n",
    "    result=rev[0]\n",
    "    for i in range(1,len(rev)):\n",
    "        tmp=result+ rev[i]\n",
    "        if(result <= tmp or len(ans)== 1):\n",
    "            ans.append(rev[i])\n",
    "            result=tmp\n",
    "        else:\n",
    "            break\n",
    "    \n",
    "    return ans,result"
   ]
  },
  {
   "cell_type": "code",
   "execution_count": 92,
   "id": "9f60d8c4",
   "metadata": {},
   "outputs": [],
   "source": [
    "def smallest_sum(test): \n",
    "    new=sorted(test)\n",
    "    ans=[new[0]]\n",
    "    result=new[0]\n",
    "    for i in range(1,len(new)):\n",
    "        tmp=result+ new[i]\n",
    "        if(result >= tmp or len(ans)== 1):\n",
    "            ans.append(new[i])\n",
    "            result=tmp\n",
    "        else:\n",
    "            break\n",
    "    return ans,result"
   ]
  },
  {
   "cell_type": "code",
   "execution_count": 93,
   "id": "9e910bf7",
   "metadata": {},
   "outputs": [
    {
     "name": "stdout",
     "output_type": "stream",
     "text": [
      "5 4 -1 7 8\n"
     ]
    },
    {
     "data": {
      "text/plain": [
       "[5, 4, -1, 7, 8]"
      ]
     },
     "execution_count": 93,
     "metadata": {},
     "output_type": "execute_result"
    }
   ],
   "source": [
    "test=list(map(int,input().split()))\n",
    "test"
   ]
  },
  {
   "cell_type": "code",
   "execution_count": 94,
   "id": "540d4f8a",
   "metadata": {},
   "outputs": [
    {
     "name": "stdout",
     "output_type": "stream",
     "text": [
      "[8, 7, 5, 4]  ( 24 )\n"
     ]
    }
   ],
   "source": [
    "ans,result=largest_sum(test)\n",
    "print(ans,\" (\",result,\")\")"
   ]
  },
  {
   "cell_type": "code",
   "execution_count": 95,
   "id": "079a8d2e",
   "metadata": {},
   "outputs": [
    {
     "data": {
      "text/plain": [
       "[5, 4, -1, 7, 8]"
      ]
     },
     "execution_count": 95,
     "metadata": {},
     "output_type": "execute_result"
    }
   ],
   "source": [
    "test"
   ]
  },
  {
   "cell_type": "code",
   "execution_count": 96,
   "id": "7b039c66",
   "metadata": {},
   "outputs": [
    {
     "name": "stdout",
     "output_type": "stream",
     "text": [
      "[-1, 4]  ( 3 )\n"
     ]
    }
   ],
   "source": [
    "ans,result=smallest_sum(test)\n",
    "print(ans,\" (\",result,\")\")"
   ]
  },
  {
   "cell_type": "markdown",
   "id": "f1667b1e",
   "metadata": {},
   "source": [
    "write a program to read the file and store the users in a dictionary with the following structure: {'id':{'name': ,'score': ,'birthyear': ,'gender': }} and answer the following:<br>\n",
    "        A) Do not store a user with no registered score [N/A]<br>\n",
    "        B) What is the ID of the oldest user?<br>\n",
    "        C) What is the average score?<br>\n",
    "        D) What is the sex of the user with the highest score?<br>\n",
    "\n",
    "*Note: Score, id, and birth year must be stored as integers<br>\n",
    "ex for dict structure: {0: {'name': 'Elsherbiny', 'score': 100, 'birthyear': 1900, 'gender': 'm'}}\n"
   ]
  },
  {
   "cell_type": "code",
   "execution_count": 33,
   "id": "a1f1a60e",
   "metadata": {},
   "outputs": [],
   "source": [
    "users={}\n",
    "with open(\"grades.txt\") as file:\n",
    "    data=file.readline().split()\n",
    "    columns=[data[0],data[1],data[4]]\n",
    "    users={\n",
    "        int(line.split()[0]):\n",
    "        {\n",
    "            data[1]:line.split()[1],      #name\n",
    "            data[2]:int(line.split()[2]), #score\n",
    "            data[4]:int(line.split()[4]), #birthyear\n",
    "            data[6]:line.split()[6]       #gender\n",
    "        }\n",
    "        for line in file.readlines() if line.split()[2]!='N/A' \n",
    "          }"
   ]
  },
  {
   "cell_type": "code",
   "execution_count": 34,
   "id": "82815172",
   "metadata": {},
   "outputs": [
    {
     "data": {
      "text/plain": [
       "{1: {'name': 'Bahnasawe', 'grade': 10, 'birthyear': 1973, 'gender': 'm'},\n",
       " 2: {'name': 'Almohamdy', 'grade': 15, 'birthyear': 1987, 'gender': 'm'},\n",
       " 3: {'name': 'Maher', 'grade': 18, 'birthyear': 1974, 'gender': 'm'},\n",
       " 4: {'name': 'Sharaf', 'grade': 7, 'birthyear': 1999, 'gender': 'm'},\n",
       " 6: {'name': 'Alsayed', 'grade': 10, 'birthyear': 1970, 'gender': 'm'},\n",
       " 7: {'name': 'AyaKh', 'grade': 16, 'birthyear': 1997, 'gender': 'f'},\n",
       " 8: {'name': 'AyaM', 'grade': 50, 'birthyear': 2000, 'gender': 'f'},\n",
       " 9: {'name': 'Basmala', 'grade': 13, 'birthyear': 2004, 'gender': 'f'},\n",
       " 10: {'name': 'Hamed', 'grade': 36, 'birthyear': 2001, 'gender': 'm'},\n",
       " 12: {'name': 'Marawany', 'grade': 14, 'birthyear': 1975, 'gender': 'm'},\n",
       " 13: {'name': 'Samir', 'grade': 6, 'birthyear': 2001, 'gender': 'm'},\n",
       " 14: {'name': 'Ola', 'grade': 5, 'birthyear': 1997, 'gender': 'f'},\n",
       " 15: {'name': 'ElRafee', 'grade': 17, 'birthyear': 1991, 'gender': 'm'},\n",
       " 17: {'name': 'Sara', 'grade': 1, 'birthyear': 2002, 'gender': 'f'}}"
      ]
     },
     "execution_count": 34,
     "metadata": {},
     "output_type": "execute_result"
    }
   ],
   "source": [
    "#A\n",
    "users"
   ]
  },
  {
   "cell_type": "code",
   "execution_count": 35,
   "id": "17f96bc5",
   "metadata": {},
   "outputs": [
    {
     "data": {
      "text/plain": [
       "6"
      ]
     },
     "execution_count": 35,
     "metadata": {},
     "output_type": "execute_result"
    }
   ],
   "source": [
    "#B\n",
    "oldest= min([value[\"birthyear\"] for value in users.values()])\n",
    "id_oldest= list(filter(lambda x: users[x][\"birthyear\"] == oldest, users.keys()))[0]\n",
    "id_oldest\n"
   ]
  },
  {
   "cell_type": "code",
   "execution_count": 21,
   "id": "bf39c36c",
   "metadata": {},
   "outputs": [
    {
     "data": {
      "text/plain": [
       "15.571428571428571"
      ]
     },
     "execution_count": 21,
     "metadata": {},
     "output_type": "execute_result"
    }
   ],
   "source": [
    "#C\n",
    "sum_score=sum([data['grade'] for data in users.values()])\n",
    "avg_score=sum_score/len(users.keys())\n",
    "avg_score\n"
   ]
  },
  {
   "cell_type": "code",
   "execution_count": 25,
   "id": "0bb23125",
   "metadata": {},
   "outputs": [
    {
     "data": {
      "text/plain": [
       "'f'"
      ]
     },
     "execution_count": 25,
     "metadata": {},
     "output_type": "execute_result"
    }
   ],
   "source": [
    "#D\n",
    "max_score=max([data['grade'] for data in users.values()])\n",
    "id_gender_max_score= list(filter(lambda x: users[x][\"grade\"] == max_score, users.keys()))[0]\n",
    "users[id_gender_max_score]['gender'] #answer\n"
   ]
  },
  {
   "cell_type": "code",
   "execution_count": 46,
   "id": "031cf85f",
   "metadata": {},
   "outputs": [],
   "source": [
    "#filtered.txt is in the same folder\n",
    "with open(\"filtered.txt\",\"w\") as file:\n",
    "    file.write(columns[0]+\" \"+columns[1]+\" \"+columns[2]+\"\\n\")\n",
    "    for key,value in users.items():\n",
    "        file.write(\"{} {} {}\\n\".format(key,value['name'],value['birthyear']))"
   ]
  }
 ],
 "metadata": {
  "kernelspec": {
   "display_name": "Python 3 (ipykernel)",
   "language": "python",
   "name": "python3"
  },
  "language_info": {
   "codemirror_mode": {
    "name": "ipython",
    "version": 3
   },
   "file_extension": ".py",
   "mimetype": "text/x-python",
   "name": "python",
   "nbconvert_exporter": "python",
   "pygments_lexer": "ipython3",
   "version": "3.10.7"
  }
 },
 "nbformat": 4,
 "nbformat_minor": 5
}
