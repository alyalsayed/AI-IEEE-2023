{
 "cells": [
  {
   "cell_type": "markdown",
   "id": "8c46bb3a",
   "metadata": {},
   "source": [
    "### C. Registration system<br>\n",
    "https://codeforces.com/contest/4/problem/C"
   ]
  },
  {
   "cell_type": "code",
   "execution_count": 1,
   "id": "f5966acf",
   "metadata": {},
   "outputs": [
    {
     "name": "stdout",
     "output_type": "stream",
     "text": [
      "4\n",
      "abacaba\n",
      "OK\n",
      "acaba\n",
      "OK\n",
      "abacaba\n",
      "abacaba1\n",
      "acab\n",
      "OK\n"
     ]
    }
   ],
   "source": [
    "n = int(input())\n",
    "names = {}\n",
    "for i in range(n):\n",
    "    s = input()\n",
    "    if s in names:\n",
    "        print(s+str(names[s]))\n",
    "        names[s] += 1\n",
    "    else:\n",
    "        print(\"OK\")\n",
    "        names[s] = 1"
   ]
  },
  {
   "cell_type": "markdown",
   "id": "f3566b5d",
   "metadata": {},
   "source": [
    "### A. Police Recruits\n",
    "https://codeforces.com/problemset/problem/427/A"
   ]
  },
  {
   "cell_type": "code",
   "execution_count": 2,
   "id": "8ce7c552",
   "metadata": {},
   "outputs": [
    {
     "name": "stdout",
     "output_type": "stream",
     "text": [
      "11\n",
      "-1 -1 2 -1 -1 -1 -1 -1 -1 -1 -1\n",
      "8\n"
     ]
    }
   ],
   "source": [
    "n = int(input())\n",
    "crime = list(map(int, input().split()))\n",
    "recruit = 0\n",
    "untreated = 0\n",
    "for i in range(n):\n",
    "    if crime[i] > 0:\n",
    "        recruit += crime[i]\n",
    "    else:\n",
    "        if recruit > 0:\n",
    "            recruit -= 1\n",
    "        else:\n",
    "            untreated += 1\n",
    "print(untreated)"
   ]
  },
  {
   "cell_type": "markdown",
   "id": "ff309dbd",
   "metadata": {},
   "source": [
    "### A. Lame King\n",
    "https://codeforces.com/contest/1804/problem/A"
   ]
  },
  {
   "cell_type": "code",
   "execution_count": 4,
   "id": "3d8721fd",
   "metadata": {},
   "outputs": [
    {
     "name": "stdout",
     "output_type": "stream",
     "text": [
      "5\n",
      "-4 1\n",
      "7\n",
      "4 4\n",
      "8\n",
      "0 -6\n",
      "11\n",
      "-5 -4\n",
      "9\n",
      "7 -8\n",
      "15\n"
     ]
    }
   ],
   "source": [
    "t=int(input())\n",
    "for i in range(t):\n",
    "    a,b= map(int,input().split())\n",
    "    if a<0:\n",
    "        a=-a\n",
    "    if b<0:\n",
    "        b=-b\n",
    "    if a==b:\n",
    "        print(2*a)\n",
    "    elif a>b:\n",
    "        print((2*b+2*(a-b))-1)\n",
    "    else:\n",
    "        print((2*a+2*(b-a))-1)"
   ]
  },
  {
   "cell_type": "code",
   "execution_count": null,
   "id": "78772727",
   "metadata": {},
   "outputs": [],
   "source": []
  }
 ],
 "metadata": {
  "kernelspec": {
   "display_name": "Python 3 (ipykernel)",
   "language": "python",
   "name": "python3"
  },
  "language_info": {
   "codemirror_mode": {
    "name": "ipython",
    "version": 3
   },
   "file_extension": ".py",
   "mimetype": "text/x-python",
   "name": "python",
   "nbconvert_exporter": "python",
   "pygments_lexer": "ipython3",
   "version": "3.10.7"
  }
 },
 "nbformat": 4,
 "nbformat_minor": 5
}
