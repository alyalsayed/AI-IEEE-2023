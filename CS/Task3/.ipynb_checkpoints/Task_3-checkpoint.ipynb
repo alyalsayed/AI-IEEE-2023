{
 "cells": [
  {
   "cell_type": "markdown",
   "id": "43e05d2f",
   "metadata": {},
   "source": [
    "# statistics\n"
   ]
  },
  {
   "cell_type": "markdown",
   "id": "c3c3ea57",
   "metadata": {},
   "source": [
    "1. Write a program (with at least 3 functions) that takes a list from the user and gets the measures of the center. [Mean, Median, Mode]<br>\n",
    "ex:<br>\n",
    "Input:<br>\n",
    "9 8 7 10 9 1 4<br>\n",
    "Output:<br>\n",
    "mean: 6.857<br>\n",
    "median: 8<br>\n",
    "mode: 9<br>"
   ]
  },
  {
   "cell_type": "markdown",
   "id": "e6e20732",
   "metadata": {},
   "source": [
    " ### calculate the mean\n",
    " The mean is obtained by simply dividing the sum of all values in a data set by the number of values."
   ]
  },
  {
   "cell_type": "code",
   "execution_count": 1,
   "id": "f8be9cd4",
   "metadata": {},
   "outputs": [],
   "source": [
    "def get_mean(numbers):\n",
    "   sum = 0\n",
    "   for num in numbers:\n",
    "      sum += num\n",
    "   return sum / len(numbers)"
   ]
  },
  {
   "cell_type": "markdown",
   "id": "0a24c4f5",
   "metadata": {},
   "source": [
    "### calculate the median\n",
    "To find the Median, place the numbers in value order and find the middle.<br>\n",
    "\n",
    "### Two Numbers in the Middle<br>\n",
    "BUT, with an even amount of numbers things are slightly different.<br><br>\n",
    "In that case we find the middle pair of numbers, and then find the value that is half way between them.<br> <br>This is easily done by adding them together and dividing by two."
   ]
  },
  {
   "cell_type": "code",
   "execution_count": 2,
   "id": "cdcc201d",
   "metadata": {},
   "outputs": [],
   "source": [
    "def get_median(numbers):\n",
    "   numbers.sort()\n",
    "   if len(numbers) % 2 == 0:\n",
    "      return (numbers[len(numbers) // 2] + numbers[len(numbers) // 2 - 1]) / 2\n",
    "   else:\n",
    "      return numbers[len(numbers) // 2]"
   ]
  },
  {
   "cell_type": "markdown",
   "id": "d764c6ec",
   "metadata": {},
   "source": [
    "### calculate the mode\n",
    "\n",
    "The mode is the number that occurs most often in a data set.\n"
   ]
  },
  {
   "cell_type": "code",
   "execution_count": 3,
   "id": "e3edc23f",
   "metadata": {},
   "outputs": [],
   "source": [
    "def get_mode(numbers):\n",
    "   counts = {}\n",
    "   for num in numbers:\n",
    "      if num in counts:\n",
    "         counts[num] += 1\n",
    "      else:\n",
    "         counts[num] = 1\n",
    "   return max(counts, key=counts.get)"
   ]
  },
  {
   "cell_type": "code",
   "execution_count": 4,
   "id": "6db59e27",
   "metadata": {},
   "outputs": [
    {
     "name": "stdout",
     "output_type": "stream",
     "text": [
      "Enter list of numbers: 3 13 7 5 21 23 39 23 40 23 14 12 56 23 293 13 7 5 21 23 39 23 40 23 14 12 56  23 29\n",
      "mean : 31.828\n",
      "median : 23\n",
      "mode : 23\n",
      "End of the program \n"
     ]
    }
   ],
   "source": [
    "while True:\n",
    "    try:\n",
    "        data=list(map(int,input(\"Enter list of numbers: \").split()))\n",
    "        print(\"mean : {}\".format(round(get_mean(data),3)))\n",
    "        print(\"median : {}\".format(get_median(data)))\n",
    "        print(\"mode : {}\".format(get_mode(data)))\n",
    "        break\n",
    "    except ValueError:\n",
    "        print(\"Oops! invalid input.enter integer numbers .\")\n",
    "    except (ZeroDivisionError,RuntimeError,TypeError):\n",
    "        print(\"Your input will cause an error . so try again ..  \")\n",
    "    except:\n",
    "        print(\"There is Error with your input \")\n",
    "    finally:\n",
    "        print(\"End of the program \")"
   ]
  },
  {
   "cell_type": "code",
   "execution_count": null,
   "id": "c93564b5",
   "metadata": {},
   "outputs": [],
   "source": []
  }
 ],
 "metadata": {
  "kernelspec": {
   "display_name": "Python 3 (ipykernel)",
   "language": "python",
   "name": "python3"
  },
  "language_info": {
   "codemirror_mode": {
    "name": "ipython",
    "version": 3
   },
   "file_extension": ".py",
   "mimetype": "text/x-python",
   "name": "python",
   "nbconvert_exporter": "python",
   "pygments_lexer": "ipython3",
   "version": "3.10.7"
  }
 },
 "nbformat": 4,
 "nbformat_minor": 5
}
