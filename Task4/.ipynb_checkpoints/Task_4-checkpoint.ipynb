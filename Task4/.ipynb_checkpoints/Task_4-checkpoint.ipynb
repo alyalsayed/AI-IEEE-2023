{
 "cells": [
  {
   "cell_type": "markdown",
   "id": "43e05d2f",
   "metadata": {},
   "source": [
    "# statistics\n"
   ]
  },
  {
   "cell_type": "markdown",
   "id": "c3c3ea57",
   "metadata": {},
   "source": [
    "1. Write a program (with at least 3 functions) that takes a list from the user and gets the measures of the spread. [min, Q1, Q2, Q3, max], [range, IQR], [Variance, Standard deviation]<br>\n",
    "ex:<br>\n",
    "Input:<br>\n",
    "9 8 7 10 9 1 4<br>\n",
    "Output:<br>\n",
    "min: 1<br>\n",
    "Q1: 4<br>\n",
    "Q2: 8<br>\n",
    "Q3: 9<br>\n",
    "max: 10<br>\n",
    "range: 9<br>\n",
    "IQR: 5<br>\n",
    "Variance: 8.979<br>\n",
    "Standard deviation: 2.997<br>"
   ]
  },
  {
   "cell_type": "markdown",
   "id": "e6e20732",
   "metadata": {},
   "source": [
    " ### calculate the mean\n",
    " The mean is obtained by simply dividing the sum of all values in a data set by the number of values."
   ]
  },
  {
   "cell_type": "code",
   "execution_count": 1,
   "id": "f8be9cd4",
   "metadata": {},
   "outputs": [],
   "source": [
    "def get_mean(numbers):\n",
    "   sum = 0\n",
    "   for num in numbers:\n",
    "      sum += num\n",
    "   return sum / len(numbers)"
   ]
  },
  {
   "cell_type": "markdown",
   "id": "0a24c4f5",
   "metadata": {},
   "source": [
    "### calculate the median\n",
    "To find the Median, place the numbers in value order and find the middle.<br>\n",
    "\n",
    "### Two Numbers in the Middle<br>\n",
    "BUT, with an even amount of numbers things are slightly different.<br><br>\n",
    "In that case we find the middle pair of numbers, and then find the value that is half way between them.<br> <br>This is easily done by adding them together and dividing by two."
   ]
  },
  {
   "cell_type": "markdown",
   "id": "d764c6ec",
   "metadata": {},
   "source": [
    "### calculate the mode\n",
    "\n",
    "The mode is the number that occurs most often in a data set.\n"
   ]
  },
  {
   "cell_type": "markdown",
   "id": "fee69904",
   "metadata": {},
   "source": [
    "### Range\n",
    "The range in statistics for a given data set is the difference between the highest and lowest values"
   ]
  },
  {
   "cell_type": "markdown",
   "id": "e904af92",
   "metadata": {},
   "source": [
    "### IQR\n",
    "The interquartile range (IQR) is a measure of statistical dispersion, which is the spread of the data\n",
    " It is defined as the difference between the 75th and 25th percentiles of the data. \n",
    "To calculate the IQR, the data set is divided into quartiles, or four rank-ordered even parts via\n",
    " linear interpolation.These quartiles are denoted by Q1 (also called the lower quartile), Q2 (the median),\n",
    " and Q3 (also called the upper quartile). The lower quartile\n",
    " corresponds with the 25th percentile and the upper quartile corresponds with the 75th percentile, so IQR = Q3 −  Q1"
   ]
  },
  {
   "cell_type": "markdown",
   "id": "22da395b",
   "metadata": {},
   "source": [
    "### Variance\n",
    "is a measure of how data points differ from the mean. According to Layman, a variance is a measure of how far a set of data (numbers) are spread out from their mean (average) value."
   ]
  },
  {
   "cell_type": "markdown",
   "id": "c452a734",
   "metadata": {},
   "source": [
    "\n",
    "### The standard deviation \n",
    "is the average amount of variability in your dataset. It tells you, on average, how far each value lies from the mean.\n",
    "A high standard deviation means that values are generally far from the mean, while a low standard deviation indicates that values are clustered close to the mean."
   ]
  },
  {
   "cell_type": "code",
   "execution_count": 2,
   "id": "5eb28f3c",
   "metadata": {},
   "outputs": [],
   "source": [
    "def get_median(numbers):\n",
    "   numbers.sort()\n",
    "   if len(numbers) % 2 == 0:\n",
    "      return (numbers[len(numbers) // 2] + numbers[len(numbers) // 2 - 1]) / 2\n",
    "   else:\n",
    "      return numbers[len(numbers) // 2]"
   ]
  },
  {
   "cell_type": "code",
   "execution_count": 3,
   "id": "e3edc23f",
   "metadata": {},
   "outputs": [],
   "source": [
    "def get_mode1(numbers):\n",
    "   counts = {}\n",
    "   for num in numbers:\n",
    "      if num in counts:\n",
    "         counts[num] += 1\n",
    "      else:\n",
    "         counts[num] = 1\n",
    "   return max(counts, key=counts.get)"
   ]
  },
  {
   "cell_type": "code",
   "execution_count": null,
   "id": "55c93eb4",
   "metadata": {},
   "outputs": [],
   "source": [
    "## this code will deal with multiple modes\n",
    "def get_mode2(numbers):\n",
    "    numbers.sort()\n",
    "    mode = []\n",
    "    max_count = 0\n",
    "    count = 0\n",
    "    for i in range(len(numbers)):\n",
    "        if numbers[i] == numbers[i - 1]:\n",
    "            count += 1\n",
    "        else:\n",
    "            count = 1\n",
    "        if count > max_count:\n",
    "            max_count = count\n",
    "            mode = [numbers[i]]\n",
    "        elif count == max_count:\n",
    "            mode.append(numbers[i])\n",
    "    return mode"
   ]
  },
  {
   "cell_type": "code",
   "execution_count": 4,
   "id": "7f43cedc",
   "metadata": {},
   "outputs": [],
   "source": [
    "def get_min(numbers):\n",
    "    min = numbers[0]\n",
    "    for num in numbers:\n",
    "        if num < min:\n",
    "            min = num\n",
    "    return min"
   ]
  },
  {
   "cell_type": "code",
   "execution_count": 5,
   "id": "e1997948",
   "metadata": {},
   "outputs": [],
   "source": [
    "def get_max(numbers):\n",
    "    max = numbers[0]\n",
    "    for num in numbers:\n",
    "        if num > max:\n",
    "            max = num\n",
    "    return max"
   ]
  },
  {
   "cell_type": "code",
   "execution_count": 6,
   "id": "6465a449",
   "metadata": {},
   "outputs": [],
   "source": [
    "def get_range(numbers):\n",
    "    min = get_min(numbers)\n",
    "    max = get_max(numbers)\n",
    "    return max - min"
   ]
  },
  {
   "cell_type": "code",
   "execution_count": 7,
   "id": "a6f566be",
   "metadata": {},
   "outputs": [],
   "source": [
    "def get_Q1(numbers):\n",
    "    numbers.sort()\n",
    "    if len(numbers) % 2 == 0:\n",
    "        return get_median(numbers[:len(numbers) // 2])\n",
    "    else:\n",
    "        return get_median(numbers[:len(numbers) // 2])"
   ]
  },
  {
   "cell_type": "code",
   "execution_count": 8,
   "id": "25bceacf",
   "metadata": {},
   "outputs": [],
   "source": [
    "def get_Q2(numbers):\n",
    "    numbers.sort()\n",
    "    return get_median(numbers)"
   ]
  },
  {
   "cell_type": "code",
   "execution_count": 9,
   "id": "e54a79d4",
   "metadata": {},
   "outputs": [],
   "source": [
    "def get_Q3(numbers):\n",
    "    numbers.sort()\n",
    "    if len(numbers) % 2 == 0:\n",
    "        return (numbers[len(numbers) // 2] + numbers[len(numbers) // 2 - 1]) / 2\n",
    "    else:\n",
    "        return get_median(numbers[len(numbers) // 2 + 1:])"
   ]
  },
  {
   "cell_type": "code",
   "execution_count": 10,
   "id": "4f503220",
   "metadata": {},
   "outputs": [],
   "source": [
    "def get_IQR(numbers):\n",
    "    return get_Q3(numbers) - get_Q1(numbers)"
   ]
  },
  {
   "cell_type": "code",
   "execution_count": 11,
   "id": "40c9d24c",
   "metadata": {},
   "outputs": [],
   "source": [
    "def get_variance(numbers):\n",
    "    sum = 0\n",
    "    for num in numbers:\n",
    "        sum += (num - get_mean(numbers)) ** 2\n",
    "    return sum / len(numbers)"
   ]
  },
  {
   "cell_type": "code",
   "execution_count": 12,
   "id": "09f96429",
   "metadata": {},
   "outputs": [],
   "source": [
    "def get_standard_deviation(numbers):\n",
    "    return get_variance(numbers) ** 0.5"
   ]
  },
  {
   "cell_type": "code",
   "execution_count": 13,
   "id": "6db59e27",
   "metadata": {},
   "outputs": [
    {
     "name": "stdout",
     "output_type": "stream",
     "text": [
      "Enter list of numbers: 9 8 7  10 9 1 4\n",
      "min: 1\n",
      "Q1: 4\n",
      "Q2: 8\n",
      "Q3: 9\n",
      "max: 10\n",
      "range: 9\n",
      "IQR: 5\n",
      "Variance: 8.98\n",
      "Standard deviation: 2.997\n",
      "End of the program \n"
     ]
    }
   ],
   "source": [
    "while True:\n",
    "    try:\n",
    "        data = list(map(int, input(\"Enter list of numbers: \").split()))\n",
    "        print(\"min: {}\".format(round(get_min(data),3)))\n",
    "        print(\"Q1: {}\".format(get_Q1(data)))\n",
    "        print(\"Q2: {}\".format(get_Q2(data)))\n",
    "        print(\"Q3: {}\".format(get_Q3(data)))\n",
    "        print(\"max: {}\".format(get_max(data)))\n",
    "        print(\"range: {}\".format(get_range(data)))\n",
    "        print(\"IQR: {}\".format(get_IQR(data)))\n",
    "        print(\"Variance: {}\".format(round(get_variance(data),3)))\n",
    "        print(\"Standard deviation: {}\".format(round(get_standard_deviation(data),3)))\n",
    "        break\n",
    "    except ValueError:\n",
    "        print(\"Oops! invalid input.enter integer numbers .\")\n",
    "    except (ZeroDivisionError,RuntimeError,TypeError):\n",
    "        print(\"Your input will cause an error . so try again ..  \")\n",
    "    except:\n",
    "        print(\"There is Error with your input \")\n",
    "    finally:\n",
    "        print(\"End of the program \")"
   ]
  },
  {
   "cell_type": "markdown",
   "id": "51cb98b1",
   "metadata": {},
   "source": [
    "### Describe method"
   ]
  },
  {
   "cell_type": "code",
   "execution_count": 14,
   "id": "7b592ed8",
   "metadata": {},
   "outputs": [
    {
     "data": {
      "text/html": [
       "<div>\n",
       "<style scoped>\n",
       "    .dataframe tbody tr th:only-of-type {\n",
       "        vertical-align: middle;\n",
       "    }\n",
       "\n",
       "    .dataframe tbody tr th {\n",
       "        vertical-align: top;\n",
       "    }\n",
       "\n",
       "    .dataframe thead th {\n",
       "        text-align: right;\n",
       "    }\n",
       "</style>\n",
       "<table border=\"1\" class=\"dataframe\">\n",
       "  <thead>\n",
       "    <tr style=\"text-align: right;\">\n",
       "      <th></th>\n",
       "      <th>0</th>\n",
       "    </tr>\n",
       "  </thead>\n",
       "  <tbody>\n",
       "    <tr>\n",
       "      <th>count</th>\n",
       "      <td>29.000000</td>\n",
       "    </tr>\n",
       "    <tr>\n",
       "      <th>mean</th>\n",
       "      <td>31.827586</td>\n",
       "    </tr>\n",
       "    <tr>\n",
       "      <th>std</th>\n",
       "      <td>52.138599</td>\n",
       "    </tr>\n",
       "    <tr>\n",
       "      <th>min</th>\n",
       "      <td>3.000000</td>\n",
       "    </tr>\n",
       "    <tr>\n",
       "      <th>25%</th>\n",
       "      <td>13.000000</td>\n",
       "    </tr>\n",
       "    <tr>\n",
       "      <th>50%</th>\n",
       "      <td>23.000000</td>\n",
       "    </tr>\n",
       "    <tr>\n",
       "      <th>75%</th>\n",
       "      <td>29.000000</td>\n",
       "    </tr>\n",
       "    <tr>\n",
       "      <th>max</th>\n",
       "      <td>293.000000</td>\n",
       "    </tr>\n",
       "  </tbody>\n",
       "</table>\n",
       "</div>"
      ],
      "text/plain": [
       "                0\n",
       "count   29.000000\n",
       "mean    31.827586\n",
       "std     52.138599\n",
       "min      3.000000\n",
       "25%     13.000000\n",
       "50%     23.000000\n",
       "75%     29.000000\n",
       "max    293.000000"
      ]
     },
     "execution_count": 14,
     "metadata": {},
     "output_type": "execute_result"
    }
   ],
   "source": [
    "import pandas as pd\n",
    "data=[3, 13, 7, 5 ,21 ,23, 39, 23, 40, 23, 14, 12, 56, 23, 293 ,13, 7, 5, 21, 23, 39, 23, 40 ,23 ,14 ,12, 56 , 23, 29]\n",
    "df=pd.DataFrame(data)\n",
    "df.describe()"
   ]
  }
 ],
 "metadata": {
  "kernelspec": {
   "display_name": "Python 3 (ipykernel)",
   "language": "python",
   "name": "python3"
  },
  "language_info": {
   "codemirror_mode": {
    "name": "ipython",
    "version": 3
   },
   "file_extension": ".py",
   "mimetype": "text/x-python",
   "name": "python",
   "nbconvert_exporter": "python",
   "pygments_lexer": "ipython3",
   "version": "3.10.7"
  }
 },
 "nbformat": 4,
 "nbformat_minor": 5
}
