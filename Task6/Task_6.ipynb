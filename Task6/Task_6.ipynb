{
 "cells": [
  {
   "cell_type": "markdown",
   "id": "bb30529f",
   "metadata": {},
   "source": [
    "1. Create a 3x3 array that contains a diagonal of nines.\n"
   ]
  },
  {
   "cell_type": "code",
   "execution_count": 1,
   "id": "446d4ccb",
   "metadata": {},
   "outputs": [],
   "source": [
    "import numpy as np"
   ]
  },
  {
   "cell_type": "code",
   "execution_count": 2,
   "id": "33ce6510",
   "metadata": {},
   "outputs": [
    {
     "name": "stdout",
     "output_type": "stream",
     "text": [
      "[[9 0 0]\n",
      " [0 9 0]\n",
      " [0 0 9]]\n"
     ]
    }
   ],
   "source": [
    "diagonal=[9,9,9]\n",
    "array = np.diag(diagonal)\n",
    "print(array)"
   ]
  },
  {
   "cell_type": "markdown",
   "id": "609e7245",
   "metadata": {},
   "source": [
    "2. Create a 4 x 4 ndarray that only contains consecutive even numbers from 2 to 32 (inclusive)<br>\n",
    "and use boolean indexing to pick out the values that are within 1/2 standard deviations of the mean."
   ]
  },
  {
   "cell_type": "code",
   "execution_count": 5,
   "id": "f44df238",
   "metadata": {},
   "outputs": [
    {
     "name": "stdout",
     "output_type": "stream",
     "text": [
      "[[ 2  4  6  8]\n",
      " [10 12 14 16]\n",
      " [18 20 22 24]\n",
      " [26 28 30 32]]\n",
      "===================\n",
      " Selected Values : \n",
      "\n",
      "[14 16 18 20]\n"
     ]
    }
   ],
   "source": [
    "arr=np.arange(2,33,2).reshape(4,4)\n",
    "print(arr)\n",
    "mean_val=np.mean(arr)\n",
    "std_val=np.std(arr)\n",
    "print(\"===================\\n Selected Values : \\n\")\n",
    "print(arr[ (arr>mean_val-std_val/2) & (arr<mean_val+std_val/2)])"
   ]
  },
  {
   "cell_type": "markdown",
   "id": "a3a6e822",
   "metadata": {},
   "source": [
    "3. Create a 9x9 array that contains only zeros of type int.\n"
   ]
  },
  {
   "cell_type": "code",
   "execution_count": 7,
   "id": "6f063d17",
   "metadata": {},
   "outputs": [
    {
     "data": {
      "text/plain": [
       "array([[0, 0, 0, 0, 0, 0, 0, 0, 0],\n",
       "       [0, 0, 0, 0, 0, 0, 0, 0, 0],\n",
       "       [0, 0, 0, 0, 0, 0, 0, 0, 0],\n",
       "       [0, 0, 0, 0, 0, 0, 0, 0, 0],\n",
       "       [0, 0, 0, 0, 0, 0, 0, 0, 0],\n",
       "       [0, 0, 0, 0, 0, 0, 0, 0, 0],\n",
       "       [0, 0, 0, 0, 0, 0, 0, 0, 0],\n",
       "       [0, 0, 0, 0, 0, 0, 0, 0, 0],\n",
       "       [0, 0, 0, 0, 0, 0, 0, 0, 0]])"
      ]
     },
     "execution_count": 7,
     "metadata": {},
     "output_type": "execute_result"
    }
   ],
   "source": [
    "arr = np.zeros((9,9), dtype=int)\n",
    "arr"
   ]
  },
  {
   "cell_type": "markdown",
   "id": "eeb6c1aa",
   "metadata": {},
   "source": [
    "4. Ask the user for a number n. Then, use broadcasting to create a n x n ndarray that has its first column full of ones, its second column full of twos, its third column full of threes, etc..."
   ]
  },
  {
   "cell_type": "code",
   "execution_count": 8,
   "id": "038d27a1",
   "metadata": {},
   "outputs": [
    {
     "name": "stdout",
     "output_type": "stream",
     "text": [
      "Enter a number: 9\n",
      "[[1. 2. 3. 4. 5. 6. 7. 8. 9.]\n",
      " [1. 2. 3. 4. 5. 6. 7. 8. 9.]\n",
      " [1. 2. 3. 4. 5. 6. 7. 8. 9.]\n",
      " [1. 2. 3. 4. 5. 6. 7. 8. 9.]\n",
      " [1. 2. 3. 4. 5. 6. 7. 8. 9.]\n",
      " [1. 2. 3. 4. 5. 6. 7. 8. 9.]\n",
      " [1. 2. 3. 4. 5. 6. 7. 8. 9.]\n",
      " [1. 2. 3. 4. 5. 6. 7. 8. 9.]\n",
      " [1. 2. 3. 4. 5. 6. 7. 8. 9.]]\n"
     ]
    }
   ],
   "source": [
    "while True:\n",
    "    try:\n",
    "        n=int(input(\"Enter a number: \"))\n",
    "        a=np.ones((n,n))\n",
    "        b=np.arange(1,n+1)\n",
    "        c=a*b\n",
    "        print(c)\n",
    "        break\n",
    "    except ValueError:\n",
    "        print(\"Enter a valid number\")\n",
    "    except KeyboardInterrupt:\n",
    "        print(\"Keyboard Interrupt\")\n",
    "        exit()"
   ]
  }
 ],
 "metadata": {
  "kernelspec": {
   "display_name": "Python 3 (ipykernel)",
   "language": "python",
   "name": "python3"
  },
  "language_info": {
   "codemirror_mode": {
    "name": "ipython",
    "version": 3
   },
   "file_extension": ".py",
   "mimetype": "text/x-python",
   "name": "python",
   "nbconvert_exporter": "python",
   "pygments_lexer": "ipython3",
   "version": "3.10.7"
  }
 },
 "nbformat": 4,
 "nbformat_minor": 5
}
