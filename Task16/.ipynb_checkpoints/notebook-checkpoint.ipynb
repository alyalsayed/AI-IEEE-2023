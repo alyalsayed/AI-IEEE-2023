{
 "cells": [
  {
   "cell_type": "markdown",
   "metadata": {
    "collapsed": true
   },
   "source": [
    "\n",
    "# ZF_Elec_Responses\n"
   ]
  },
  {
   "cell_type": "markdown",
   "metadata": {},
   "source": [
    "# Exploring the dataset "
   ]
  },
  {
   "cell_type": "code",
   "execution_count": 127,
   "metadata": {},
   "outputs": [
    {
     "data": {
      "text/html": [
       "<div>\n",
       "<style scoped>\n",
       "    .dataframe tbody tr th:only-of-type {\n",
       "        vertical-align: middle;\n",
       "    }\n",
       "\n",
       "    .dataframe tbody tr th {\n",
       "        vertical-align: top;\n",
       "    }\n",
       "\n",
       "    .dataframe thead th {\n",
       "        text-align: right;\n",
       "    }\n",
       "</style>\n",
       "<table border=\"1\" class=\"dataframe\">\n",
       "  <thead>\n",
       "    <tr style=\"text-align: right;\">\n",
       "      <th></th>\n",
       "      <th>Timestamp</th>\n",
       "      <th>Full Name (3 names at least)</th>\n",
       "      <th>Phone Number</th>\n",
       "      <th>Email</th>\n",
       "      <th>Faculty - Department</th>\n",
       "      <th>Academic Year</th>\n",
       "      <th>Date of birth</th>\n",
       "      <th>Facebook URL</th>\n",
       "      <th>LinkedIn URL (optional)</th>\n",
       "      <th>What do you know about Z Fast Racing Team?</th>\n",
       "      <th>How did you hear about us?</th>\n",
       "      <th>Do you have any volunteering experience?</th>\n",
       "      <th>If yes, what is your volunteering experience?</th>\n",
       "      <th>What do you know about electrical vehicle ?</th>\n",
       "      <th>What do you know about competition we participate ?</th>\n",
       "      <th>What do you seek to learn by joining Z Fast Team?</th>\n",
       "      <th>Any questions?</th>\n",
       "    </tr>\n",
       "  </thead>\n",
       "  <tbody>\n",
       "    <tr>\n",
       "      <th>0</th>\n",
       "      <td>2022-05-12 19:30:19.458</td>\n",
       "      <td>Mohamed Monir Mohamed</td>\n",
       "      <td>01210933802</td>\n",
       "      <td>mohameddobea13@gmail.com</td>\n",
       "      <td>Electrical engineering</td>\n",
       "      <td>3rd year</td>\n",
       "      <td>2000-11-11</td>\n",
       "      <td>https://www.facebook.com/Mohamed.Monir0</td>\n",
       "      <td>https://www.linkedin.com/in/mohamed-dobea-a911...</td>\n",
       "      <td>Z-Fast is the team that represents to Zagazig ...</td>\n",
       "      <td>Facebook</td>\n",
       "      <td>Yes</td>\n",
       "      <td>I have volunteered with AIESEC SOLVAKIAN organ...</td>\n",
       "      <td>It is an automotive vehicle that uses one or m...</td>\n",
       "      <td>EVER is giving young engineer the opportunity ...</td>\n",
       "      <td>I would like to improve my skills in embedded ...</td>\n",
       "      <td>NaN</td>\n",
       "    </tr>\n",
       "    <tr>\n",
       "      <th>1</th>\n",
       "      <td>2022-05-12 20:01:06.995</td>\n",
       "      <td>Mohammed Salah Aboshosha</td>\n",
       "      <td>01027463950</td>\n",
       "      <td>mohamedaboshosha12@gmail.com</td>\n",
       "      <td>Engineering - Electrical</td>\n",
       "      <td>2nd year</td>\n",
       "      <td>2001-10-27</td>\n",
       "      <td>https://www.facebook.com/Mohammedsalah.hasona</td>\n",
       "      <td>https://www.linkedin.com/in/mohammed-salah-hasona</td>\n",
       "      <td>Z Fast is a racing team which represents Zagaz...</td>\n",
       "      <td>Facebook, Friends</td>\n",
       "      <td>Yes</td>\n",
       "      <td>Joined zag eng family for about one and half y...</td>\n",
       "      <td>To sum up electrical vehicles are vehicles tha...</td>\n",
       "      <td>EVER competition as Z Fast got the best Innova...</td>\n",
       "      <td>Learning more about embedded systems and elect...</td>\n",
       "      <td>No thanks</td>\n",
       "    </tr>\n",
       "    <tr>\n",
       "      <th>2</th>\n",
       "      <td>2022-05-12 20:15:51.354</td>\n",
       "      <td>mohamed salah fathy abdelhamid</td>\n",
       "      <td>01004257855</td>\n",
       "      <td>medosalahmedo4@gmail.com</td>\n",
       "      <td>engengineering-mechatronics</td>\n",
       "      <td>3rd year</td>\n",
       "      <td>2000-11-17</td>\n",
       "      <td>https://www.facebook.com/medo.salah210/</td>\n",
       "      <td>NaN</td>\n",
       "      <td>its a team represents Zagazig University in El...</td>\n",
       "      <td>Facebook, Friends</td>\n",
       "      <td>No</td>\n",
       "      <td>this will be first time</td>\n",
       "      <td>An electric vehicle (EV) is one that uses an e...</td>\n",
       "      <td>i know that you make an electrical vehicle tha...</td>\n",
       "      <td>I am seeking to develop my skills in embedded ...</td>\n",
       "      <td>thanks</td>\n",
       "    </tr>\n",
       "    <tr>\n",
       "      <th>3</th>\n",
       "      <td>2022-05-12 20:17:26.297</td>\n",
       "      <td>Omar Saad Mohamed Saad Soliman</td>\n",
       "      <td>01149493914</td>\n",
       "      <td>mingosos13@gmail.com</td>\n",
       "      <td>Mechatronics</td>\n",
       "      <td>3rd year</td>\n",
       "      <td>2001-01-27</td>\n",
       "      <td>https://www.facebook.com/omar.saad.3726</td>\n",
       "      <td>https://www.linkedin.com/in/omar-soliman-a4198...</td>\n",
       "      <td>A team that makes an electric car and enter co...</td>\n",
       "      <td>Facebook, Friends, Faculty colleagues</td>\n",
       "      <td>No</td>\n",
       "      <td>no thing</td>\n",
       "      <td>They are new vehicle that run on electric batt...</td>\n",
       "      <td>no thing</td>\n",
       "      <td>New skills in communication and working by my ...</td>\n",
       "      <td>no</td>\n",
       "    </tr>\n",
       "    <tr>\n",
       "      <th>4</th>\n",
       "      <td>2022-05-12 20:30:14.318</td>\n",
       "      <td>ماجد علاء السيد محمد</td>\n",
       "      <td>01013414668</td>\n",
       "      <td>Magedalaazsc@gmail.com</td>\n",
       "      <td>كلية الهندسة - أولى كهربا</td>\n",
       "      <td>2nd year</td>\n",
       "      <td>2002-02-24</td>\n",
       "      <td>https://www.facebook.com/maged.alaa.315</td>\n",
       "      <td>NaN</td>\n",
       "      <td>تيم طموح بيعمل حاجة عندي الشغف اتعلمها واطلع ط...</td>\n",
       "      <td>Facebook, Friends</td>\n",
       "      <td>Yes</td>\n",
       "      <td>Zag Eng team ( for 6 months - now)\\nResala cha...</td>\n",
       "      <td>صديقة للبيئة وموفرة وهي حاجة جديد ففيها مجال ل...</td>\n",
       "      <td>اسمها EVER تقريبا وخاصة بتصميم وتشغيل سيارات ا...</td>\n",
       "      <td>اتعلم اردوينو مهم بالنسبالي جدا وكمان جزء ال E...</td>\n",
       "      <td>Thanks</td>\n",
       "    </tr>\n",
       "  </tbody>\n",
       "</table>\n",
       "</div>"
      ],
      "text/plain": [
       "                Timestamp    Full Name (3 names at least) Phone Number  \\\n",
       "0 2022-05-12 19:30:19.458           Mohamed Monir Mohamed  01210933802   \n",
       "1 2022-05-12 20:01:06.995        Mohammed Salah Aboshosha  01027463950   \n",
       "2 2022-05-12 20:15:51.354  mohamed salah fathy abdelhamid  01004257855   \n",
       "3 2022-05-12 20:17:26.297  Omar Saad Mohamed Saad Soliman  01149493914   \n",
       "4 2022-05-12 20:30:14.318            ماجد علاء السيد محمد  01013414668   \n",
       "\n",
       "                          Email         Faculty - Department Academic Year  \\\n",
       "0      mohameddobea13@gmail.com       Electrical engineering      3rd year   \n",
       "1  mohamedaboshosha12@gmail.com     Engineering - Electrical      2nd year   \n",
       "2      medosalahmedo4@gmail.com  engengineering-mechatronics      3rd year   \n",
       "3          mingosos13@gmail.com                 Mechatronics      3rd year   \n",
       "4        Magedalaazsc@gmail.com    كلية الهندسة - أولى كهربا      2nd year   \n",
       "\n",
       "  Date of birth                                   Facebook URL  \\\n",
       "0    2000-11-11        https://www.facebook.com/Mohamed.Monir0   \n",
       "1    2001-10-27  https://www.facebook.com/Mohammedsalah.hasona   \n",
       "2    2000-11-17        https://www.facebook.com/medo.salah210/   \n",
       "3    2001-01-27        https://www.facebook.com/omar.saad.3726   \n",
       "4    2002-02-24        https://www.facebook.com/maged.alaa.315   \n",
       "\n",
       "                             LinkedIn URL (optional)  \\\n",
       "0  https://www.linkedin.com/in/mohamed-dobea-a911...   \n",
       "1  https://www.linkedin.com/in/mohammed-salah-hasona   \n",
       "2                                                NaN   \n",
       "3  https://www.linkedin.com/in/omar-soliman-a4198...   \n",
       "4                                                NaN   \n",
       "\n",
       "          What do you know about Z Fast Racing Team?  \\\n",
       "0  Z-Fast is the team that represents to Zagazig ...   \n",
       "1  Z Fast is a racing team which represents Zagaz...   \n",
       "2  its a team represents Zagazig University in El...   \n",
       "3  A team that makes an electric car and enter co...   \n",
       "4  تيم طموح بيعمل حاجة عندي الشغف اتعلمها واطلع ط...   \n",
       "\n",
       "              How did you hear about us?  \\\n",
       "0                               Facebook   \n",
       "1                      Facebook, Friends   \n",
       "2                      Facebook, Friends   \n",
       "3  Facebook, Friends, Faculty colleagues   \n",
       "4                      Facebook, Friends   \n",
       "\n",
       "  Do you have any volunteering experience?  \\\n",
       "0                                      Yes   \n",
       "1                                      Yes   \n",
       "2                                       No   \n",
       "3                                       No   \n",
       "4                                      Yes   \n",
       "\n",
       "       If yes, what is your volunteering experience?  \\\n",
       "0  I have volunteered with AIESEC SOLVAKIAN organ...   \n",
       "1  Joined zag eng family for about one and half y...   \n",
       "2                            this will be first time   \n",
       "3                                           no thing   \n",
       "4  Zag Eng team ( for 6 months - now)\\nResala cha...   \n",
       "\n",
       "         What do you know about electrical vehicle ?  \\\n",
       "0  It is an automotive vehicle that uses one or m...   \n",
       "1  To sum up electrical vehicles are vehicles tha...   \n",
       "2  An electric vehicle (EV) is one that uses an e...   \n",
       "3  They are new vehicle that run on electric batt...   \n",
       "4  صديقة للبيئة وموفرة وهي حاجة جديد ففيها مجال ل...   \n",
       "\n",
       "  What do you know about competition we participate ?  \\\n",
       "0  EVER is giving young engineer the opportunity ...    \n",
       "1  EVER competition as Z Fast got the best Innova...    \n",
       "2  i know that you make an electrical vehicle tha...    \n",
       "3                                           no thing    \n",
       "4  اسمها EVER تقريبا وخاصة بتصميم وتشغيل سيارات ا...    \n",
       "\n",
       "   What do you seek to learn by joining Z Fast Team? Any questions?  \n",
       "0  I would like to improve my skills in embedded ...            NaN  \n",
       "1  Learning more about embedded systems and elect...      No thanks  \n",
       "2  I am seeking to develop my skills in embedded ...         thanks  \n",
       "3  New skills in communication and working by my ...             no  \n",
       "4  اتعلم اردوينو مهم بالنسبالي جدا وكمان جزء ال E...         Thanks  "
      ]
     },
     "execution_count": 127,
     "metadata": {},
     "output_type": "execute_result"
    }
   ],
   "source": [
    "# read the dataset\n",
    "import pandas as pd \n",
    "import numpy as np\n",
    "df = pd.read_excel('ZF_Elec_Responses.xlsx')\n",
    "df.head()"
   ]
  },
  {
   "cell_type": "code",
   "execution_count": 128,
   "metadata": {},
   "outputs": [
    {
     "name": "stdout",
     "output_type": "stream",
     "text": [
      "Number os rows :  90\n"
     ]
    }
   ],
   "source": [
    "# How many rows are in the dataset?\n",
    "print(\"Number os rows : \", df.shape[0])"
   ]
  },
  {
   "cell_type": "code",
   "execution_count": 129,
   "metadata": {},
   "outputs": [
    {
     "name": "stdout",
     "output_type": "stream",
     "text": [
      "Number os columns :  17\n"
     ]
    }
   ],
   "source": [
    "# How many columns are in this dataset?\n",
    "print(\"Number os columns : \", df.shape[1])"
   ]
  },
  {
   "cell_type": "code",
   "execution_count": 130,
   "metadata": {},
   "outputs": [
    {
     "name": "stdout",
     "output_type": "stream",
     "text": [
      "<class 'pandas.core.frame.DataFrame'>\n",
      "RangeIndex: 90 entries, 0 to 89\n",
      "Data columns (total 17 columns):\n",
      " #   Column                                               Non-Null Count  Dtype         \n",
      "---  ------                                               --------------  -----         \n",
      " 0   Timestamp                                            90 non-null     datetime64[ns]\n",
      " 1   Full Name (3 names at least)                         90 non-null     object        \n",
      " 2   Phone Number                                         90 non-null     object        \n",
      " 3   Email                                                90 non-null     object        \n",
      " 4   Faculty - Department                                 90 non-null     object        \n",
      " 5   Academic Year                                        90 non-null     object        \n",
      " 6   Date of birth                                        90 non-null     datetime64[ns]\n",
      " 7   Facebook URL                                         90 non-null     object        \n",
      " 8   LinkedIn URL (optional)                              58 non-null     object        \n",
      " 9   What do you know about Z Fast Racing Team?           90 non-null     object        \n",
      " 10  How did you hear about us?                           90 non-null     object        \n",
      " 11  Do you have any volunteering experience?             90 non-null     object        \n",
      " 12  If yes, what is your volunteering experience?        90 non-null     object        \n",
      " 13  What do you know about electrical vehicle ?          83 non-null     object        \n",
      " 14  What do you know about competition we participate ?  73 non-null     object        \n",
      " 15  What do you seek to learn by joining Z Fast Team?    90 non-null     object        \n",
      " 16  Any questions?                                       51 non-null     object        \n",
      "dtypes: datetime64[ns](2), object(15)\n",
      "memory usage: 12.1+ KB\n"
     ]
    }
   ],
   "source": [
    "# What is the data type of each column in the dataset?\n",
    "df.info() # df.dtypes also works "
   ]
  },
  {
   "cell_type": "code",
   "execution_count": 131,
   "metadata": {},
   "outputs": [
    {
     "data": {
      "text/plain": [
       "Timestamp                                               0\n",
       "Full Name (3 names at least)                            0\n",
       "Phone Number                                            0\n",
       "Email                                                   0\n",
       "Faculty - Department                                    0\n",
       "Academic Year                                           0\n",
       "Date of birth                                           0\n",
       "Facebook URL                                            0\n",
       "LinkedIn URL (optional)                                32\n",
       "What do you know about Z Fast Racing Team?              0\n",
       "How did you hear about us?                              0\n",
       "Do you have any volunteering experience?                0\n",
       "If yes, what is your volunteering experience?           0\n",
       "What do you know about electrical vehicle ?             7\n",
       "What do you know about competition we participate ?    17\n",
       "What do you seek to learn by joining Z Fast Team?       0\n",
       "Any questions?                                         39\n",
       "dtype: int64"
      ]
     },
     "execution_count": 131,
     "metadata": {},
     "output_type": "execute_result"
    }
   ],
   "source": [
    "# Which columns have missing values? \n",
    "null_status=df.isnull().sum()\n",
    "null_status"
   ]
  },
  {
   "cell_type": "code",
   "execution_count": 132,
   "metadata": {},
   "outputs": [
    {
     "name": "stdout",
     "output_type": "stream",
     "text": [
      "Index(['LinkedIn URL (optional)',\n",
      "       'What do you know about electrical vehicle ?',\n",
      "       'What do you know about competition we participate ?',\n",
      "       'Any questions?'],\n",
      "      dtype='object')\n"
     ]
    }
   ],
   "source": [
    "print(df.columns[null_status > 0])"
   ]
  },
  {
   "cell_type": "code",
   "execution_count": 133,
   "metadata": {},
   "outputs": [
    {
     "data": {
      "text/plain": [
       "Index(['LinkedIn URL (optional)',\n",
       "       'What do you know about electrical vehicle ?',\n",
       "       'What do you know about competition we participate ?',\n",
       "       'Any questions?'],\n",
       "      dtype='object')"
      ]
     },
     "execution_count": 133,
     "metadata": {},
     "output_type": "execute_result"
    }
   ],
   "source": [
    "df.columns[df.isna().any()] # using boolean indexing "
   ]
  },
  {
   "cell_type": "markdown",
   "metadata": {},
   "source": [
    "By showing the null values of the dataset , it's clear that :\n",
    "- All applicants have facebook accounts but not all  have linkendin accounts and here IEEE should take actions by making events or sessions about linkedin for the accepted .\n",
    "- for question 'What do you know about electrical vehicle ?',<br> it's clear that 7 people don't answer although it's important about the track they are applying to so it's possible to refuse their application (0-1)  <br> and for the next question 'What do you know about competition we participate ?', <br>the number increases so we may refuse their application if these questions are important to know in this track . also silly and wrong answers are checked but manually   "
   ]
  },
  {
   "cell_type": "markdown",
   "metadata": {},
   "source": [
    "# Exploriong \"1st question \""
   ]
  },
  {
   "cell_type": "code",
   "execution_count": 134,
   "metadata": {},
   "outputs": [
    {
     "data": {
      "image/png": "[encoded data removed]",
      "text/plain": [
       "<Figure size 640x480 with 1 Axes>"
      ]
     },
     "metadata": {},
     "output_type": "display_data"
    }
   ],
   "source": [
    "import matplotlib.pyplot as plt\n",
    "answer_counts = df[\"What do you know about electrical vehicle ?\"].notnull().value_counts()\n",
    "\n",
    "# Create a pie chart to visualize the percentages of applicants who answered and did not answer the question\n",
    "labels = [\"Answered\", \"Did not answer\"]\n",
    "plt.pie(answer_counts, labels=labels, autopct=\"%1.1f%%\")\n",
    "plt.title(\"Question Response\")\n",
    "plt.show()"
   ]
  },
  {
   "cell_type": "markdown",
   "metadata": {},
   "source": [
    "# Exploriong \"2nd question \""
   ]
  },
  {
   "cell_type": "code",
   "execution_count": 135,
   "metadata": {},
   "outputs": [
    {
     "data": {
      "image/png": "[encoded data removed]",
      "text/plain": [
       "<Figure size 640x480 with 1 Axes>"
      ]
     },
     "metadata": {},
     "output_type": "display_data"
    }
   ],
   "source": [
    "import matplotlib.pyplot as plt\n",
    "answer_counts = df[\"What do you know about competition we participate ?\"].notnull().value_counts()\n",
    "\n",
    "# Create a pie chart to visualize the percentages of applicants who answered and did not answer the question\n",
    "labels = [\"Answered\", \"Did not answer\"]\n",
    "plt.pie(answer_counts, labels=labels, autopct=\"%1.1f%%\")\n",
    "plt.title(\"Question Response\")\n",
    "plt.show()"
   ]
  },
  {
   "cell_type": "markdown",
   "metadata": {},
   "source": [
    "# Who is the first to submit the form ?"
   ]
  },
  {
   "cell_type": "code",
   "execution_count": 136,
   "metadata": {},
   "outputs": [
    {
     "data": {
      "text/plain": [
       "Timestamp                                                                     2022-05-12 19:30:19.458000\n",
       "Full Name (3 names at least)                                                       Mohamed Monir Mohamed\n",
       "Phone Number                                                                                 01210933802\n",
       "Email                                                                           mohameddobea13@gmail.com\n",
       "Faculty - Department                                                              Electrical engineering\n",
       "Academic Year                                                                                   3rd year\n",
       "Date of birth                                                                        2000-11-11 00:00:00\n",
       "Facebook URL                                                     https://www.facebook.com/Mohamed.Monir0\n",
       "LinkedIn URL (optional)                                https://www.linkedin.com/in/mohamed-dobea-a911...\n",
       "What do you know about Z Fast Racing Team?             Z-Fast is the team that represents to Zagazig ...\n",
       "How did you hear about us?                                                                      Facebook\n",
       "Do you have any volunteering experience?                                                             Yes\n",
       "If yes, what is your volunteering experience?          I have volunteered with AIESEC SOLVAKIAN organ...\n",
       "What do you know about electrical vehicle ?            It is an automotive vehicle that uses one or m...\n",
       "What do you know about competition we participate ?    EVER is giving young engineer the opportunity ...\n",
       "What do you seek to learn by joining Z Fast Team?      I would like to improve my skills in embedded ...\n",
       "Any questions?                                                                                       NaN\n",
       "Name: 0, dtype: object"
      ]
     },
     "execution_count": 136,
     "metadata": {},
     "output_type": "execute_result"
    }
   ],
   "source": [
    "# Sort the data by the Timestamp column in ascending order\n",
    "df = df.sort_values(by='Timestamp')\n",
    "\n",
    "# Select the first row\n",
    "first_submission = df.iloc[0]\n",
    "\n",
    "# Display the information about the first person to submit the form\n",
    "first_submission"
   ]
  },
  {
   "cell_type": "markdown",
   "metadata": {},
   "source": [
    "#  Checking phone number "
   ]
  },
  {
   "cell_type": "code",
   "execution_count": 137,
   "metadata": {},
   "outputs": [
    {
     "name": "stdout",
     "output_type": "stream",
     "text": [
      "Invalid phone number at index 83: 010222388938\n"
     ]
    }
   ],
   "source": [
    "import re\n",
    "\n",
    "def is_valid_phone_number(phone_number):\n",
    "    # Convert non-string inputs to string\n",
    "    if not isinstance(phone_number, str):\n",
    "        phone_number = str(phone_number)\n",
    "    # Remove any non-digit characters from the phone number\n",
    "    phone_number = re.sub(r\"\\D\", \"\", phone_number)\n",
    "    \n",
    "    \n",
    "    # Check if the phone number starts with a valid prefix\n",
    "    if phone_number.startswith((\"10\", \"11\", \"12\",\"15\")):\n",
    "        if len(phone_number) == 10:\n",
    "            return True           \n",
    "    if phone_number.startswith((\"201\", \"202\", \"011\", \"012\", \"010\",\"015\")):       \n",
    "        remaining_digits = phone_number[2:] if phone_number.startswith(\"20\") else phone_number[1:]\n",
    "        if len(remaining_digits) == 10:\n",
    "            return True\n",
    "\n",
    "    return False\n",
    "\n",
    "for index, row in df.iterrows():\n",
    "    phone_number = row[\"Phone Number\"]\n",
    "    if not is_valid_phone_number(phone_number):\n",
    "        print(f\"Invalid phone number at index {index}: {phone_number}\")"
   ]
  },
  {
   "cell_type": "markdown",
   "metadata": {},
   "source": [
    "#  Checking Emails"
   ]
  },
  {
   "cell_type": "code",
   "execution_count": 138,
   "metadata": {},
   "outputs": [
    {
     "name": "stdout",
     "output_type": "stream",
     "text": [
      "gmail.com         87\n",
      "beng.bu.edu.eg     1\n",
      "gmail.con          1\n",
      "gmil.com           1\n",
      "Name: 1, dtype: int64\n"
     ]
    }
   ],
   "source": [
    "# Use the value_counts() method to count the occurrences of each domain name\n",
    "domain_counts = df[\"Email\"].str.split(\"@\", expand=True)[1].str.lower().str.strip().value_counts()\n",
    "\n",
    "# Print the counts for each domain name\n",
    "print(domain_counts)\n"
   ]
  },
  {
   "cell_type": "markdown",
   "metadata": {},
   "source": [
    "it looks like that most of the applicants use gmail "
   ]
  },
  {
   "cell_type": "code",
   "execution_count": 139,
   "metadata": {},
   "outputs": [
    {
     "name": "stdout",
     "output_type": "stream",
     "text": [
      "   Full Name (3 names at least)                       Email Phone Number\n",
      "37           احمد محمد اسماعيل   Ahmedthebest1234@gmail.con  01015374542\n",
      "48           ali mahmoud moharm         amoharm493@gmil.com  01095726821\n"
     ]
    }
   ],
   "source": [
    "invalid_emails = df[df[\"Email\"].str.lower().str.endswith((\"gmail.con\", \"gmil.com\"))]\n",
    "print(invalid_emails[[\"Full Name (3 names at least)\", \"Email\", \"Phone Number\"]])"
   ]
  },
  {
   "cell_type": "markdown",
   "metadata": {},
   "source": [
    "# Visualize Volunteering Experience percentage "
   ]
  },
  {
   "cell_type": "code",
   "execution_count": 140,
   "metadata": {},
   "outputs": [
    {
     "data": {
      "image/png": "[encoded data removed]",
      "text/plain": [
       "<Figure size 640x480 with 1 Axes>"
      ]
     },
     "metadata": {},
     "output_type": "display_data"
    }
   ],
   "source": [
    "import matplotlib.pyplot as plt\n",
    "# Count the number of respondents who answered \"yes\" and \"no\"\n",
    "volunteering_counts = df[\"Do you have any volunteering experience?\"].value_counts()\n",
    "\n",
    "plt.pie(volunteering_counts, labels=volunteering_counts.index, autopct=\"%1.1f%%\")\n",
    "plt.title(\"Volunteering Experience\")\n",
    "plt.show()"
   ]
  },
  {
   "cell_type": "code",
   "execution_count": 141,
   "metadata": {},
   "outputs": [
    {
     "data": {
      "image/png": "[encoded data removed]",
      "text/plain": [
       "<Figure size 640x480 with 1 Axes>"
      ]
     },
     "metadata": {},
     "output_type": "display_data"
    }
   ],
   "source": [
    "# Count the number of non-null and null values in the \"LinkedIn URL (optional)\" column\n",
    "linkedin_counts = df[\"LinkedIn URL (optional)\"].notnull().value_counts()\n",
    "\n",
    "# Create a horizontal bar chart to visualize the \n",
    "labels = [\"Yes\", \"No\"]\n",
    "plt.bar(labels, linkedin_counts, color=[\"green\",\"red\"])\n",
    "plt.title(\"percentage of applicants who have a linkedin account \")\n",
    "\n",
    "plt.show()"
   ]
  },
  {
   "cell_type": "markdown",
   "metadata": {},
   "source": [
    "# Exploring Academic Year of the applicants "
   ]
  },
  {
   "cell_type": "code",
   "execution_count": 142,
   "metadata": {},
   "outputs": [
    {
     "data": {
      "image/png": "[encoded data removed]",
      "text/plain": [
       "<Figure size 640x480 with 1 Axes>"
      ]
     },
     "metadata": {},
     "output_type": "display_data"
    }
   ],
   "source": [
    "academic_year_counts = df[\"Academic Year\"].value_counts()\n",
    "\n",
    "plt.barh(academic_year_counts.index, academic_year_counts)\n",
    "plt.title(\"Academic Year\")\n",
    "plt.xlabel(\"Number of Students\")\n",
    "plt.show()"
   ]
  },
  {
   "cell_type": "markdown",
   "metadata": {},
   "source": [
    "it seems most of them are of the 2nd year "
   ]
  },
  {
   "cell_type": "code",
   "execution_count": 143,
   "metadata": {},
   "outputs": [
    {
     "data": {
      "image/png": "[encoded data removed]",
      "text/plain": [
       "<Figure size 640x480 with 1 Axes>"
      ]
     },
     "metadata": {},
     "output_type": "display_data"
    }
   ],
   "source": [
    "\n",
    "import datetime as dt\n",
    "\n",
    "\n",
    "# Convert the \"Date of Birth\" column to a pandas datetime object\n",
    "df[\"Date of birth\"] = pd.to_datetime(df[\"Date of birth\"])\n",
    "\n",
    "# Calculate the age of each applicant based on their date of birth\n",
    "now = dt.datetime.now()\n",
    "df[\"Age\"] = (now - df[\"Date of birth\"]).apply(lambda x: x.days // 365)\n",
    "\n",
    "# Create a histogram to visualize the distribution of ages\n",
    "plt.hist(df[\"Age\"], bins=range(0, 30, 2), edgecolor=\"black\")\n",
    "plt.title(\"Age Distribution\")\n",
    "plt.xlabel(\"Age\")\n",
    "plt.ylabel(\"Number of Applicants\")\n",
    "plt.show()"
   ]
  },
  {
   "cell_type": "markdown",
   "metadata": {},
   "source": [
    "# young applicants  or invalid date of birth"
   ]
  },
  {
   "cell_type": "code",
   "execution_count": 144,
   "metadata": {},
   "outputs": [
    {
     "data": {
      "text/html": [
       "<div>\n",
       "<style scoped>\n",
       "    .dataframe tbody tr th:only-of-type {\n",
       "        vertical-align: middle;\n",
       "    }\n",
       "\n",
       "    .dataframe tbody tr th {\n",
       "        vertical-align: top;\n",
       "    }\n",
       "\n",
       "    .dataframe thead th {\n",
       "        text-align: right;\n",
       "    }\n",
       "</style>\n",
       "<table border=\"1\" class=\"dataframe\">\n",
       "  <thead>\n",
       "    <tr style=\"text-align: right;\">\n",
       "      <th></th>\n",
       "      <th>Timestamp</th>\n",
       "      <th>Full Name (3 names at least)</th>\n",
       "      <th>Phone Number</th>\n",
       "      <th>Email</th>\n",
       "      <th>Faculty - Department</th>\n",
       "      <th>Academic Year</th>\n",
       "      <th>Date of birth</th>\n",
       "      <th>Facebook URL</th>\n",
       "      <th>LinkedIn URL (optional)</th>\n",
       "      <th>What do you know about Z Fast Racing Team?</th>\n",
       "      <th>How did you hear about us?</th>\n",
       "      <th>Do you have any volunteering experience?</th>\n",
       "      <th>If yes, what is your volunteering experience?</th>\n",
       "      <th>What do you know about electrical vehicle ?</th>\n",
       "      <th>What do you know about competition we participate ?</th>\n",
       "      <th>What do you seek to learn by joining Z Fast Team?</th>\n",
       "      <th>Any questions?</th>\n",
       "      <th>Age</th>\n",
       "    </tr>\n",
       "  </thead>\n",
       "  <tbody>\n",
       "    <tr>\n",
       "      <th>61</th>\n",
       "      <td>2022-05-17 06:59:49.270</td>\n",
       "      <td>منةالله جمال محمد عبدالفتاح</td>\n",
       "      <td>01146396084</td>\n",
       "      <td>menagmal272@gmail.com</td>\n",
       "      <td>Engineering-electrical department</td>\n",
       "      <td>2nd year</td>\n",
       "      <td>2022-05-14</td>\n",
       "      <td>https://bit.ly/3FbdroM</td>\n",
       "      <td>https://www.linkedin.com/in/mena-gamal</td>\n",
       "      <td>It is a team representing Zagazig University i...</td>\n",
       "      <td>Facebook, Friends, Faculty colleagues</td>\n",
       "      <td>Yes</td>\n",
       "      <td>HR member IEEE-ZSB\\nRAS member IEEE-ZSB\\nCente...</td>\n",
       "      <td>According to my knowledge about the electric v...</td>\n",
       "      <td>The competition you are participating in, whic...</td>\n",
       "      <td>Through it, I learn more about the field of el...</td>\n",
       "      <td>NaN</td>\n",
       "      <td>1</td>\n",
       "    </tr>\n",
       "    <tr>\n",
       "      <th>64</th>\n",
       "      <td>2022-05-17 20:44:38.256</td>\n",
       "      <td>Mohamed Osama Elsayed Mohamed</td>\n",
       "      <td>01092645730</td>\n",
       "      <td>mohamedosamaelsayed175@gmail.com</td>\n",
       "      <td>Mechatronics</td>\n",
       "      <td>4th year</td>\n",
       "      <td>2022-05-17</td>\n",
       "      <td>https://www.facebook.com/mode.osama700/</td>\n",
       "      <td>https://www.linkedin.com/in/mohamed-o-elsayed/</td>\n",
       "      <td>Team of engineering students from different de...</td>\n",
       "      <td>Facebook, Faculty colleagues</td>\n",
       "      <td>Yes</td>\n",
       "      <td>I am now a member of technical committee</td>\n",
       "      <td>oil free , ecofriendly and noise free automobi...</td>\n",
       "      <td>NaN</td>\n",
       "      <td>gain technical experience through using softwa...</td>\n",
       "      <td>NaN</td>\n",
       "      <td>1</td>\n",
       "    </tr>\n",
       "  </tbody>\n",
       "</table>\n",
       "</div>"
      ],
      "text/plain": [
       "                 Timestamp   Full Name (3 names at least) Phone Number  \\\n",
       "61 2022-05-17 06:59:49.270   منةالله جمال محمد عبدالفتاح   01146396084   \n",
       "64 2022-05-17 20:44:38.256  Mohamed Osama Elsayed Mohamed  01092645730   \n",
       "\n",
       "                               Email                Faculty - Department  \\\n",
       "61            menagmal272@gmail.com   Engineering-electrical department    \n",
       "64  mohamedosamaelsayed175@gmail.com                        Mechatronics   \n",
       "\n",
       "   Academic Year Date of birth                             Facebook URL  \\\n",
       "61      2nd year    2022-05-14                   https://bit.ly/3FbdroM   \n",
       "64      4th year    2022-05-17  https://www.facebook.com/mode.osama700/   \n",
       "\n",
       "                           LinkedIn URL (optional)  \\\n",
       "61          https://www.linkedin.com/in/mena-gamal   \n",
       "64  https://www.linkedin.com/in/mohamed-o-elsayed/   \n",
       "\n",
       "           What do you know about Z Fast Racing Team?  \\\n",
       "61  It is a team representing Zagazig University i...   \n",
       "64  Team of engineering students from different de...   \n",
       "\n",
       "               How did you hear about us?  \\\n",
       "61  Facebook, Friends, Faculty colleagues   \n",
       "64           Facebook, Faculty colleagues   \n",
       "\n",
       "   Do you have any volunteering experience?  \\\n",
       "61                                      Yes   \n",
       "64                                      Yes   \n",
       "\n",
       "        If yes, what is your volunteering experience?  \\\n",
       "61  HR member IEEE-ZSB\\nRAS member IEEE-ZSB\\nCente...   \n",
       "64           I am now a member of technical committee   \n",
       "\n",
       "          What do you know about electrical vehicle ?  \\\n",
       "61  According to my knowledge about the electric v...   \n",
       "64  oil free , ecofriendly and noise free automobi...   \n",
       "\n",
       "   What do you know about competition we participate ?  \\\n",
       "61  The competition you are participating in, whic...    \n",
       "64                                                NaN    \n",
       "\n",
       "    What do you seek to learn by joining Z Fast Team? Any questions?  Age  \n",
       "61  Through it, I learn more about the field of el...            NaN    1  \n",
       "64  gain technical experience through using softwa...            NaN    1  "
      ]
     },
     "execution_count": 144,
     "metadata": {},
     "output_type": "execute_result"
    }
   ],
   "source": [
    "young_applicants = df[df[\"Age\"] < 18]\n",
    "young_applicants"
   ]
  },
  {
   "cell_type": "markdown",
   "metadata": {},
   "source": [
    "# Exploring Faculty - Department"
   ]
  },
  {
   "cell_type": "code",
   "execution_count": 145,
   "metadata": {},
   "outputs": [
    {
     "name": "stdout",
     "output_type": "stream",
     "text": [
      "['Electrical engineering' 'Engineering - Electrical'\n",
      " 'engengineering-mechatronics' 'Mechatronics' 'كلية الهندسة - أولى كهربا'\n",
      " 'Faculty of Engineering ZU- Electrical Department ' 'الهندسه قسم كهرباء'\n",
      " 'engineering-electric' 'Electrical engineering '\n",
      " 'Electrical department , faculty of engineering ' 'Electrical'\n",
      " 'Engineering - Electrical ' 'Engineering-prep'\n",
      " 'Faculty of electrical engineering' 'Engineering-Electrical'\n",
      " 'Faculty of engineering - Electrical power and Machines '\n",
      " 'CIC- mechatronics' 'Prep'\n",
      " 'Faculty of engineering _ Electrical department '\n",
      " 'Engineering _ prep year' 'Engineering - Zagazig'\n",
      " 'Electrical Engineering ' 'Electric department '\n",
      " 'engineering- electric department ' 'Faculty of engineering - prepatory'\n",
      " 'Air defence college/communication and electronics'\n",
      " 'Engineering - electrical department '\n",
      " 'Faculty of engineering electrical department '\n",
      " 'Faculty Of Engineering - Electrical Department'\n",
      " 'Faculty of engineering, electrical department' 'كهرباء'\n",
      " 'Electrical Engineering' 'Zagazig engineering, electrical department'\n",
      " 'Engineering/Electrical department'\n",
      " 'Faculty of engineering - Mechatronics'\n",
      " 'Faculty of Engineering || Electrical Department '\n",
      " 'Engineering electrical department ' 'electrical engineering'\n",
      " 'Electrical Engineer' 'engineering (electrical)'\n",
      " 'Faculty of Engineering  Electrical Department'\n",
      " 'Engineering- Mechatronics' 'mechanical' 'Mechanical Engineering'\n",
      " 'الهندسة الكهربية ' 'electrical engineer'\n",
      " 'Engineering, Electrical engineering' 'هندسه قسم كهرباء'\n",
      " 'هندسه الزقازيق/ميكاترونكس ' 'engineering-electrics'\n",
      " 'Mechanical engineering of Zagazig university' 'Electrical engineering.'\n",
      " 'Zag mechanical engineering ' 'Engineering ZU - mechanical '\n",
      " 'هندسه/ كهربا' 'ميكاترونكس' 'Engineering-electrical department '\n",
      " 'Electric engineering ' 'اعدادي' 'Faculty of enginering /mechanical'\n",
      " 'Engineering - Electrical Department '\n",
      " 'هندسه الزقازيق قسم ميكاترونكس lvl000'\n",
      " 'Faculty Of Engineering _ Electrical Department '\n",
      " 'كلية الهندسة قسم- الهندسة الكهربائية '\n",
      " 'Electrical Engineering Department at Faculty of Engineering Zagazig '\n",
      " 'Engineering - Mechatronics'\n",
      " 'Engineering - Electrical and Electronics department '\n",
      " 'Engineering - electric ' 'كلية الهندسة قسم ميكانيكا جامعة الزقازيق '\n",
      " 'Mechatronics Engineering'\n",
      " 'Faculty of Engineering Department of Electricity ' 'Engineering -- prep'\n",
      " 'Faculty of engineering Zagazig university -electrical department '\n",
      " 'Fci - zu' 'هندسة- ميكاترونكس' 'Engineering - Electrical (2nd year)']\n"
     ]
    }
   ],
   "source": [
    "# Show the unique values of the \"Faculty - Department\" column\n",
    "faculty_department_values = df[\"Faculty - Department\"].unique()\n",
    "print(faculty_department_values)"
   ]
  }
 ],
 "metadata": {
  "kernelspec": {
   "display_name": "Python 3 (ipykernel)",
   "language": "python",
   "name": "python3"
  },
  "language_info": {
   "codemirror_mode": {
    "name": "ipython",
    "version": 3
   },
   "file_extension": ".py",
   "mimetype": "text/x-python",
   "name": "python",
   "nbconvert_exporter": "python",
   "pygments_lexer": "ipython3",
   "version": "3.10.7"
  }
 },
 "nbformat": 4,
 "nbformat_minor": 2
}
