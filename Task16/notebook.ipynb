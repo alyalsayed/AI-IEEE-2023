{
 "cells": [
  {
   "cell_type": "markdown",
   "metadata": {
    "collapsed": true
   },
   "source": [
    "\n",
    "# ZF_Elec_Responses\n"
   ]
  },
  {
   "cell_type": "code",
   "execution_count": 2,
   "metadata": {},
   "outputs": [
    {
     "data": {
      "text/html": [
       "<div>\n",
       "<style scoped>\n",
       "    .dataframe tbody tr th:only-of-type {\n",
       "        vertical-align: middle;\n",
       "    }\n",
       "\n",
       "    .dataframe tbody tr th {\n",
       "        vertical-align: top;\n",
       "    }\n",
       "\n",
       "    .dataframe thead th {\n",
       "        text-align: right;\n",
       "    }\n",
       "</style>\n",
       "<table border=\"1\" class=\"dataframe\">\n",
       "  <thead>\n",
       "    <tr style=\"text-align: right;\">\n",
       "      <th></th>\n",
       "      <th>Timestamp</th>\n",
       "      <th>Full Name (3 names at least)</th>\n",
       "      <th>Phone Number</th>\n",
       "      <th>Email</th>\n",
       "      <th>Faculty - Department</th>\n",
       "      <th>Academic Year</th>\n",
       "      <th>Date of birth</th>\n",
       "      <th>Facebook URL</th>\n",
       "      <th>LinkedIn URL (optional)</th>\n",
       "      <th>What do you know about Z Fast Racing Team?</th>\n",
       "      <th>How did you hear about us?</th>\n",
       "      <th>Do you have any volunteering experience?</th>\n",
       "      <th>If yes, what is your volunteering experience?</th>\n",
       "      <th>What do you know about electrical vehicle ?</th>\n",
       "      <th>What do you know about competition we participate ?</th>\n",
       "      <th>What do you seek to learn by joining Z Fast Team?</th>\n",
       "      <th>Any questions?</th>\n",
       "    </tr>\n",
       "  </thead>\n",
       "  <tbody>\n",
       "    <tr>\n",
       "      <th>0</th>\n",
       "      <td>2022-05-12 19:30:19.458</td>\n",
       "      <td>Mohamed Monir Mohamed</td>\n",
       "      <td>01210933802</td>\n",
       "      <td>mohameddobea13@gmail.com</td>\n",
       "      <td>Electrical engineering</td>\n",
       "      <td>3rd year</td>\n",
       "      <td>2000-11-11</td>\n",
       "      <td>https://www.facebook.com/Mohamed.Monir0</td>\n",
       "      <td>https://www.linkedin.com/in/mohamed-dobea-a911...</td>\n",
       "      <td>Z-Fast is the team that represents to Zagazig ...</td>\n",
       "      <td>Facebook</td>\n",
       "      <td>Yes</td>\n",
       "      <td>I have volunteered with AIESEC SOLVAKIAN organ...</td>\n",
       "      <td>It is an automotive vehicle that uses one or m...</td>\n",
       "      <td>EVER is giving young engineer the opportunity ...</td>\n",
       "      <td>I would like to improve my skills in embedded ...</td>\n",
       "      <td>NaN</td>\n",
       "    </tr>\n",
       "    <tr>\n",
       "      <th>1</th>\n",
       "      <td>2022-05-12 20:01:06.995</td>\n",
       "      <td>Mohammed Salah Aboshosha</td>\n",
       "      <td>01027463950</td>\n",
       "      <td>mohamedaboshosha12@gmail.com</td>\n",
       "      <td>Engineering - Electrical</td>\n",
       "      <td>2nd year</td>\n",
       "      <td>2001-10-27</td>\n",
       "      <td>https://www.facebook.com/Mohammedsalah.hasona</td>\n",
       "      <td>https://www.linkedin.com/in/mohammed-salah-hasona</td>\n",
       "      <td>Z Fast is a racing team which represents Zagaz...</td>\n",
       "      <td>Facebook, Friends</td>\n",
       "      <td>Yes</td>\n",
       "      <td>Joined zag eng family for about one and half y...</td>\n",
       "      <td>To sum up electrical vehicles are vehicles tha...</td>\n",
       "      <td>EVER competition as Z Fast got the best Innova...</td>\n",
       "      <td>Learning more about embedded systems and elect...</td>\n",
       "      <td>No thanks</td>\n",
       "    </tr>\n",
       "    <tr>\n",
       "      <th>2</th>\n",
       "      <td>2022-05-12 20:15:51.354</td>\n",
       "      <td>mohamed salah fathy abdelhamid</td>\n",
       "      <td>01004257855</td>\n",
       "      <td>medosalahmedo4@gmail.com</td>\n",
       "      <td>engengineering-mechatronics</td>\n",
       "      <td>3rd year</td>\n",
       "      <td>2000-11-17</td>\n",
       "      <td>https://www.facebook.com/medo.salah210/</td>\n",
       "      <td>NaN</td>\n",
       "      <td>its a team represents Zagazig University in El...</td>\n",
       "      <td>Facebook, Friends</td>\n",
       "      <td>No</td>\n",
       "      <td>this will be first time</td>\n",
       "      <td>An electric vehicle (EV) is one that uses an e...</td>\n",
       "      <td>i know that you make an electrical vehicle tha...</td>\n",
       "      <td>I am seeking to develop my skills in embedded ...</td>\n",
       "      <td>thanks</td>\n",
       "    </tr>\n",
       "    <tr>\n",
       "      <th>3</th>\n",
       "      <td>2022-05-12 20:17:26.297</td>\n",
       "      <td>Omar Saad Mohamed Saad Soliman</td>\n",
       "      <td>01149493914</td>\n",
       "      <td>mingosos13@gmail.com</td>\n",
       "      <td>Mechatronics</td>\n",
       "      <td>3rd year</td>\n",
       "      <td>2001-01-27</td>\n",
       "      <td>https://www.facebook.com/omar.saad.3726</td>\n",
       "      <td>https://www.linkedin.com/in/omar-soliman-a4198...</td>\n",
       "      <td>A team that makes an electric car and enter co...</td>\n",
       "      <td>Facebook, Friends, Faculty colleagues</td>\n",
       "      <td>No</td>\n",
       "      <td>no thing</td>\n",
       "      <td>They are new vehicle that run on electric batt...</td>\n",
       "      <td>no thing</td>\n",
       "      <td>New skills in communication and working by my ...</td>\n",
       "      <td>no</td>\n",
       "    </tr>\n",
       "    <tr>\n",
       "      <th>4</th>\n",
       "      <td>2022-05-12 20:30:14.318</td>\n",
       "      <td>ماجد علاء السيد محمد</td>\n",
       "      <td>01013414668</td>\n",
       "      <td>Magedalaazsc@gmail.com</td>\n",
       "      <td>كلية الهندسة - أولى كهربا</td>\n",
       "      <td>2nd year</td>\n",
       "      <td>2002-02-24</td>\n",
       "      <td>https://www.facebook.com/maged.alaa.315</td>\n",
       "      <td>NaN</td>\n",
       "      <td>تيم طموح بيعمل حاجة عندي الشغف اتعلمها واطلع ط...</td>\n",
       "      <td>Facebook, Friends</td>\n",
       "      <td>Yes</td>\n",
       "      <td>Zag Eng team ( for 6 months - now)\\nResala cha...</td>\n",
       "      <td>صديقة للبيئة وموفرة وهي حاجة جديد ففيها مجال ل...</td>\n",
       "      <td>اسمها EVER تقريبا وخاصة بتصميم وتشغيل سيارات ا...</td>\n",
       "      <td>اتعلم اردوينو مهم بالنسبالي جدا وكمان جزء ال E...</td>\n",
       "      <td>Thanks</td>\n",
       "    </tr>\n",
       "  </tbody>\n",
       "</table>\n",
       "</div>"
      ],
      "text/plain": [
       "                Timestamp    Full Name (3 names at least) Phone Number  \\\n",
       "0 2022-05-12 19:30:19.458           Mohamed Monir Mohamed  01210933802   \n",
       "1 2022-05-12 20:01:06.995        Mohammed Salah Aboshosha  01027463950   \n",
       "2 2022-05-12 20:15:51.354  mohamed salah fathy abdelhamid  01004257855   \n",
       "3 2022-05-12 20:17:26.297  Omar Saad Mohamed Saad Soliman  01149493914   \n",
       "4 2022-05-12 20:30:14.318            ماجد علاء السيد محمد  01013414668   \n",
       "\n",
       "                          Email         Faculty - Department Academic Year  \\\n",
       "0      mohameddobea13@gmail.com       Electrical engineering      3rd year   \n",
       "1  mohamedaboshosha12@gmail.com     Engineering - Electrical      2nd year   \n",
       "2      medosalahmedo4@gmail.com  engengineering-mechatronics      3rd year   \n",
       "3          mingosos13@gmail.com                 Mechatronics      3rd year   \n",
       "4        Magedalaazsc@gmail.com    كلية الهندسة - أولى كهربا      2nd year   \n",
       "\n",
       "  Date of birth                                   Facebook URL  \\\n",
       "0    2000-11-11        https://www.facebook.com/Mohamed.Monir0   \n",
       "1    2001-10-27  https://www.facebook.com/Mohammedsalah.hasona   \n",
       "2    2000-11-17        https://www.facebook.com/medo.salah210/   \n",
       "3    2001-01-27        https://www.facebook.com/omar.saad.3726   \n",
       "4    2002-02-24        https://www.facebook.com/maged.alaa.315   \n",
       "\n",
       "                             LinkedIn URL (optional)  \\\n",
       "0  https://www.linkedin.com/in/mohamed-dobea-a911...   \n",
       "1  https://www.linkedin.com/in/mohammed-salah-hasona   \n",
       "2                                                NaN   \n",
       "3  https://www.linkedin.com/in/omar-soliman-a4198...   \n",
       "4                                                NaN   \n",
       "\n",
       "          What do you know about Z Fast Racing Team?  \\\n",
       "0  Z-Fast is the team that represents to Zagazig ...   \n",
       "1  Z Fast is a racing team which represents Zagaz...   \n",
       "2  its a team represents Zagazig University in El...   \n",
       "3  A team that makes an electric car and enter co...   \n",
       "4  تيم طموح بيعمل حاجة عندي الشغف اتعلمها واطلع ط...   \n",
       "\n",
       "              How did you hear about us?  \\\n",
       "0                               Facebook   \n",
       "1                      Facebook, Friends   \n",
       "2                      Facebook, Friends   \n",
       "3  Facebook, Friends, Faculty colleagues   \n",
       "4                      Facebook, Friends   \n",
       "\n",
       "  Do you have any volunteering experience?  \\\n",
       "0                                      Yes   \n",
       "1                                      Yes   \n",
       "2                                       No   \n",
       "3                                       No   \n",
       "4                                      Yes   \n",
       "\n",
       "       If yes, what is your volunteering experience?  \\\n",
       "0  I have volunteered with AIESEC SOLVAKIAN organ...   \n",
       "1  Joined zag eng family for about one and half y...   \n",
       "2                            this will be first time   \n",
       "3                                           no thing   \n",
       "4  Zag Eng team ( for 6 months - now)\\nResala cha...   \n",
       "\n",
       "         What do you know about electrical vehicle ?  \\\n",
       "0  It is an automotive vehicle that uses one or m...   \n",
       "1  To sum up electrical vehicles are vehicles tha...   \n",
       "2  An electric vehicle (EV) is one that uses an e...   \n",
       "3  They are new vehicle that run on electric batt...   \n",
       "4  صديقة للبيئة وموفرة وهي حاجة جديد ففيها مجال ل...   \n",
       "\n",
       "  What do you know about competition we participate ?  \\\n",
       "0  EVER is giving young engineer the opportunity ...    \n",
       "1  EVER competition as Z Fast got the best Innova...    \n",
       "2  i know that you make an electrical vehicle tha...    \n",
       "3                                           no thing    \n",
       "4  اسمها EVER تقريبا وخاصة بتصميم وتشغيل سيارات ا...    \n",
       "\n",
       "   What do you seek to learn by joining Z Fast Team? Any questions?  \n",
       "0  I would like to improve my skills in embedded ...            NaN  \n",
       "1  Learning more about embedded systems and elect...      No thanks  \n",
       "2  I am seeking to develop my skills in embedded ...         thanks  \n",
       "3  New skills in communication and working by my ...             no  \n",
       "4  اتعلم اردوينو مهم بالنسبالي جدا وكمان جزء ال E...         Thanks  "
      ]
     },
     "execution_count": 2,
     "metadata": {},
     "output_type": "execute_result"
    }
   ],
   "source": [
    "# read the dataset\n",
    "import pandas as pd \n",
    "import numpy as np\n",
    "df = pd.read_excel('ZF_Elec_Responses.xlsx')\n",
    "df.head()"
   ]
  },
  {
   "cell_type": "code",
   "execution_count": 4,
   "metadata": {},
   "outputs": [
    {
     "name": "stdout",
     "output_type": "stream",
     "text": [
      "Number os rows :  90\n"
     ]
    }
   ],
   "source": [
    "# How many rows are in the dataset?\n",
    "print(\"Number os rows : \", df.shape[0])"
   ]
  },
  {
   "cell_type": "code",
   "execution_count": 5,
   "metadata": {},
   "outputs": [
    {
     "name": "stdout",
     "output_type": "stream",
     "text": [
      "Number os columns :  17\n"
     ]
    }
   ],
   "source": [
    "# How many columns are in this dataset?\n",
    "print(\"Number os columns : \", df.shape[1])"
   ]
  },
  {
   "cell_type": "code",
   "execution_count": 6,
   "metadata": {},
   "outputs": [
    {
     "name": "stdout",
     "output_type": "stream",
     "text": [
      "<class 'pandas.core.frame.DataFrame'>\n",
      "RangeIndex: 90 entries, 0 to 89\n",
      "Data columns (total 17 columns):\n",
      " #   Column                                               Non-Null Count  Dtype         \n",
      "---  ------                                               --------------  -----         \n",
      " 0   Timestamp                                            90 non-null     datetime64[ns]\n",
      " 1   Full Name (3 names at least)                         90 non-null     object        \n",
      " 2   Phone Number                                         90 non-null     object        \n",
      " 3   Email                                                90 non-null     object        \n",
      " 4   Faculty - Department                                 90 non-null     object        \n",
      " 5   Academic Year                                        90 non-null     object        \n",
      " 6   Date of birth                                        90 non-null     datetime64[ns]\n",
      " 7   Facebook URL                                         90 non-null     object        \n",
      " 8   LinkedIn URL (optional)                              58 non-null     object        \n",
      " 9   What do you know about Z Fast Racing Team?           90 non-null     object        \n",
      " 10  How did you hear about us?                           90 non-null     object        \n",
      " 11  Do you have any volunteering experience?             90 non-null     object        \n",
      " 12  If yes, what is your volunteering experience?        90 non-null     object        \n",
      " 13  What do you know about electrical vehicle ?          83 non-null     object        \n",
      " 14  What do you know about competition we participate ?  73 non-null     object        \n",
      " 15  What do you seek to learn by joining Z Fast Team?    90 non-null     object        \n",
      " 16  Any questions?                                       51 non-null     object        \n",
      "dtypes: datetime64[ns](2), object(15)\n",
      "memory usage: 12.1+ KB\n"
     ]
    }
   ],
   "source": [
    "# What is the data type of each column in the dataset?\n",
    "df.info() # df.dtypes also works "
   ]
  },
  {
   "cell_type": "code",
   "execution_count": 7,
   "metadata": {},
   "outputs": [
    {
     "data": {
      "text/plain": [
       "Timestamp                                               0\n",
       "Full Name (3 names at least)                            0\n",
       "Phone Number                                            0\n",
       "Email                                                   0\n",
       "Faculty - Department                                    0\n",
       "Academic Year                                           0\n",
       "Date of birth                                           0\n",
       "Facebook URL                                            0\n",
       "LinkedIn URL (optional)                                32\n",
       "What do you know about Z Fast Racing Team?              0\n",
       "How did you hear about us?                              0\n",
       "Do you have any volunteering experience?                0\n",
       "If yes, what is your volunteering experience?           0\n",
       "What do you know about electrical vehicle ?             7\n",
       "What do you know about competition we participate ?    17\n",
       "What do you seek to learn by joining Z Fast Team?       0\n",
       "Any questions?                                         39\n",
       "dtype: int64"
      ]
     },
     "execution_count": 7,
     "metadata": {},
     "output_type": "execute_result"
    }
   ],
   "source": [
    "# Which columns have missing values? \n",
    "null_status=df.isnull().sum()\n",
    "null_status"
   ]
  },
  {
   "cell_type": "code",
   "execution_count": 8,
   "metadata": {},
   "outputs": [
    {
     "name": "stdout",
     "output_type": "stream",
     "text": [
      "Index(['LinkedIn URL (optional)',\n",
      "       'What do you know about electrical vehicle ?',\n",
      "       'What do you know about competition we participate ?',\n",
      "       'Any questions?'],\n",
      "      dtype='object')\n"
     ]
    }
   ],
   "source": [
    "print(df.columns[null_status > 0])"
   ]
  },
  {
   "cell_type": "code",
   "execution_count": 9,
   "metadata": {},
   "outputs": [
    {
     "data": {
      "text/plain": [
       "Index(['LinkedIn URL (optional)',\n",
       "       'What do you know about electrical vehicle ?',\n",
       "       'What do you know about competition we participate ?',\n",
       "       'Any questions?'],\n",
       "      dtype='object')"
      ]
     },
     "execution_count": 9,
     "metadata": {},
     "output_type": "execute_result"
    }
   ],
   "source": [
    "df.columns[df.isna().any()] # using boolean indexing "
   ]
  },
  {
   "cell_type": "code",
   "execution_count": null,
   "metadata": {},
   "outputs": [],
   "source": [
    "By showing the null values of the dataset , it's clear that :\n",
    "- All applicants have facebook accounts but not all  have linkendin accounts and here IEEE should take actions by making events or sessions about linkedin for the accepted .\n",
    "- for question 'What do you know about electrical vehicle ?', it's clear that 7 people don't answer although it's important about the track they are applying to so it's possible to refuse their application (0-1)  and for the next question  \n",
    "  'What do you know about competition we participate ?', the number increases so we may refuse their application if these questions are important to know in this track . also silly and wrong answers are considered but manually   "
   ]
  }
 ],
 "metadata": {
  "kernelspec": {
   "display_name": "Python 3 (ipykernel)",
   "language": "python",
   "name": "python3"
  },
  "language_info": {
   "codemirror_mode": {
    "name": "ipython",
    "version": 3
   },
   "file_extension": ".py",
   "mimetype": "text/x-python",
   "name": "python",
   "nbconvert_exporter": "python",
   "pygments_lexer": "ipython3",
   "version": "3.10.7"
  }
 },
 "nbformat": 4,
 "nbformat_minor": 2
}
