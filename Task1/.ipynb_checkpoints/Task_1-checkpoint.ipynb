{
 "cells": [
  {
   "cell_type": "markdown",
   "id": "ee4fd483",
   "metadata": {},
   "source": [
    "# Task 1"
   ]
  },
  {
   "cell_type": "markdown",
   "id": "f4dd5239",
   "metadata": {},
   "source": [
    "1. Write a program that asks the user for a list of integers then find the second largest and second smallest number in the list.<br>\n",
    "ex:<br>\n",
    "Input:<br>\n",
    "5 7 9 12 3 6 <br>\n",
    "Output:<br>\n",
    "9<br>\n",
    "5 <br>"
   ]
  },
  {
   "cell_type": "code",
   "execution_count": 1,
   "id": "ac597f82",
   "metadata": {},
   "outputs": [],
   "source": [
    "def solve(x):\n",
    "    x.sort()\n",
    "    return x[-2],x[1]"
   ]
  },
  {
   "cell_type": "code",
   "execution_count": 2,
   "id": "d02652a5",
   "metadata": {},
   "outputs": [
    {
     "name": "stdout",
     "output_type": "stream",
     "text": [
      "Enter the list numbers : 1 2 3 4 5\n"
     ]
    }
   ],
   "source": [
    "x=[int(num) for num in input(\"Enter the list numbers : \").split()]"
   ]
  },
  {
   "cell_type": "code",
   "execution_count": 3,
   "id": "0d9d9643",
   "metadata": {},
   "outputs": [
    {
     "name": "stdout",
     "output_type": "stream",
     "text": [
      "4\n",
      "2\n"
     ]
    }
   ],
   "source": [
    "x1,x2=solve(x)\n",
    "print(x1)\n",
    "print(x2)"
   ]
  },
  {
   "cell_type": "markdown",
   "id": "e532acef",
   "metadata": {},
   "source": [
    "2. Write a program to print if a given list is symmetric or not.<br>\n",
    "<p>A list is symmetric if the first row is the same as the first column,\n",
    "the second row is the same as the second column and so on"
   ]
  },
  {
   "cell_type": "code",
   "execution_count": 4,
   "id": "91d612ea",
   "metadata": {},
   "outputs": [],
   "source": [
    "def is_symmetric(matrix):\n",
    "     n=len(matrix)\n",
    "     for i in range(n):\n",
    "        for j in range(n):\n",
    "            if (matrix[i][j] != matrix[j][i]):\n",
    "                return False\n",
    "     return True\n",
    "    "
   ]
  },
  {
   "cell_type": "code",
   "execution_count": 5,
   "id": "6f37d224",
   "metadata": {},
   "outputs": [
    {
     "name": "stdout",
     "output_type": "stream",
     "text": [
      "True\n"
     ]
    }
   ],
   "source": [
    "matrix2d=[[1, 3, 5], [3, 2, 4], [5, 4, 1]]\n",
    "print(is_symmetric(matrix2d))"
   ]
  },
  {
   "cell_type": "markdown",
   "id": "3c23bbd7",
   "metadata": {},
   "source": [
    "3. Write a program to print the key of the list that has the biggest range in the following dictionary:<br>\n",
    "dict1 = {<br>\n",
    "    \"A\":[20,30,100,49],<br>\n",
    "    \"B\":[00,199,201,29],<br>\n",
    "    \"C\":[40,90,69,18]<br>\n",
    "}<br>\n",
    "Range = max(numbers)-min(numbers)"
   ]
  },
  {
   "cell_type": "code",
   "execution_count": 6,
   "id": "afecdc6d",
   "metadata": {},
   "outputs": [],
   "source": [
    "def key_with_maxRange(dict1):\n",
    "    max_value=-10e9\n",
    "    max_key=''\n",
    "    for key in dict1:\n",
    "        range_value=max(dict1[key]) - min(dict1[key])\n",
    "        if max_value < range_value :\n",
    "            max_value = range_value\n",
    "            max_key= key\n",
    "    return max_key"
   ]
  },
  {
   "cell_type": "code",
   "execution_count": 7,
   "id": "5ae28777",
   "metadata": {},
   "outputs": [
    {
     "name": "stdout",
     "output_type": "stream",
     "text": [
      "B\n"
     ]
    }
   ],
   "source": [
    "dict1 = {\n",
    "    \"A\":[20,30,100,49],\n",
    "    \"B\":[00,199,201,29],\n",
    "    \"C\":[40,90,69,18]\n",
    "}\n",
    "print(key_with_maxRange(dict1))"
   ]
  },
  {
   "cell_type": "markdown",
   "id": "904ce580",
   "metadata": {},
   "source": [
    "4. Write a program that asks the user for a list of integers and a target integer, print the index of the first two numbers that add up to the target number.<br>\n",
    "ex:<br>\n",
    "Input:<br>\n",
    "1 4 5 6 8<br>\n",
    "5<br>\n",
    "Output:<br>\n",
    "0, 1<br>"
   ]
  },
  {
   "cell_type": "code",
   "execution_count": 8,
   "id": "3485bfcb",
   "metadata": {},
   "outputs": [],
   "source": [
    "def special_sum(numbers,target):\n",
    "    for i in range(len(numbers)):\n",
    "        for j in range(i,len(numbers)):\n",
    "            if(numbers[i]+numbers[j] == target):\n",
    "                return i,j\n",
    "    return -1 , -1"
   ]
  },
  {
   "cell_type": "code",
   "execution_count": 9,
   "id": "e574fc58",
   "metadata": {},
   "outputs": [
    {
     "name": "stdout",
     "output_type": "stream",
     "text": [
      "Enter the list numbers : 5 6 8 4 1 \n",
      "Enter target number: 11\n",
      "0   1\n"
     ]
    }
   ],
   "source": [
    "numbers=[int(num) for num in input(\"Enter the list numbers : \").split()]\n",
    "target=int(input(\"Enter target number: \"))\n",
    "i,j=special_sum(numbers,target)\n",
    "if(i==-1 or j==-1):\n",
    "    print(\"no numbers add up to given target\")\n",
    "else: print(i,\" \",j)"
   ]
  },
  {
   "cell_type": "markdown",
   "id": "4dc9aa99",
   "metadata": {},
   "source": [
    "5. Given a list of strings, create two lists, the first one has the half of each string, the other list contains the other half of the strings.<br>\n",
    "ex:<br>\n",
    "Input:<br>\n",
    "apple Banana<br>\n",
    "Output:<br>\n",
    "[\"app\", \"Ban\"]<br>\n",
    "[\"le\", \"ana\"]<br>"
   ]
  },
  {
   "cell_type": "code",
   "execution_count": 10,
   "id": "0e6b434f",
   "metadata": {},
   "outputs": [
    {
     "name": "stdout",
     "output_type": "stream",
     "text": [
      "['app', 'ban']\n",
      "['le', 'ana']\n"
     ]
    }
   ],
   "source": [
    "list1=[\"apple\",\"banana\"]\n",
    "x1=[val[:len(val)//2 ] if len(val)%2==0 else val[:len(val)//2+1 ]  for val in list1]\n",
    "x2=[val[len(val)//2 : ] if len(val)%2==0 else val[len(val)//2 +1 :]  for val in list1]\n",
    "print(x1)\n",
    "print(x2)"
   ]
  },
  {
   "cell_type": "markdown",
   "id": "86803704",
   "metadata": {},
   "source": [
    "6. Write a program that asks the user about boys and girls with their age each in a row, then put them into a dictionary.\n",
    "ex:<br>\n",
    "Input:<br>\n",
    "Ali:20,Mohamed:19,Ahmed:15<br>\n",
    "Sara:19,Mona:17<br>\n",
    "Output:<br>\n",
    "{'Ali': 20, 'Mohamed': 19, 'Ahmed': 15, 'Sara': 19, 'Mona': 17}"
   ]
  },
  {
   "cell_type": "code",
   "execution_count": 16,
   "id": "af424ce1",
   "metadata": {},
   "outputs": [
    {
     "name": "stdout",
     "output_type": "stream",
     "text": [
      "Ali:20,Mohamed:19,Ahmed:15\n",
      "Sara:19,Mona:17\n"
     ]
    },
    {
     "data": {
      "text/plain": [
       "{'Ali': '20', 'Mohamed': '19', 'Ahmed': '15', 'Sara': '19', 'Mona': '17'}"
      ]
     },
     "execution_count": 16,
     "metadata": {},
     "output_type": "execute_result"
    }
   ],
   "source": [
    "boys_data=[data.split(\":\") for data in input().split(\",\")]\n",
    "boys_dict={x:y for (x,y) in boys_data}\n",
    "girls_data=[data.split(\":\") for data in input().split(\",\")]\n",
    "girls_dict={x:y for x,y in girls_data}\n",
    "boys_dict.update(girls_dict)\n",
    "boys_dict"
   ]
  },
  {
   "cell_type": "markdown",
   "id": "ffa93eef",
   "metadata": {},
   "source": [
    "7. Write a program to rotate a list by a given number k. (k > 0)<br>\n",
    "ex:<br>\n",
    "Input:<br>\n",
    "0 1 8 9 6 2<br>\n",
    "2<br>\n",
    "Output:<br>\n",
    "[6, 2, 0, 1, 8, 9]<br>"
   ]
  },
  {
   "cell_type": "code",
   "execution_count": null,
   "id": "1659f592",
   "metadata": {},
   "outputs": [],
   "source": [
    "import time\n",
    "start=time.time()"
   ]
  },
  {
   "cell_type": "code",
   "execution_count": null,
   "id": "3982e649",
   "metadata": {},
   "outputs": [],
   "source": [
    "def rotate_list(nums,k):\n",
    "    n=len(nums)\n",
    "    k=k%n\n",
    "    ans=[0]*n\n",
    "    j=n-k\n",
    "    for i in range(k):\n",
    "        ans[i]=nums[j]\n",
    "        j+=1\n",
    "\n",
    "    j=k\n",
    "    for i in range(n-k):\n",
    "        ans[j]=nums[i]\n",
    "        j+=1\n",
    "    return ans"
   ]
  },
  {
   "cell_type": "code",
   "execution_count": null,
   "id": "2eab2f37",
   "metadata": {},
   "outputs": [],
   "source": [
    "nums=[int(num) for num in input(\"Enter the list numbers : \").split()]\n",
    "k=int(input())\n",
    "ans=rotate_list(nums,k)\n",
    "print(ans)\n",
    "print(start-time.time())"
   ]
  },
  {
   "cell_type": "code",
   "execution_count": null,
   "id": "24df0eb6",
   "metadata": {},
   "outputs": [],
   "source": [
    "lst = list(map(int, input().split()))\n",
    "k = int(input())\n",
    "\n",
    "k %= len(lst)\n",
    "k = len(lst) - k\n",
    "\n",
    "new_list = lst[k:] + lst[:k]\n",
    "\n",
    "print(new_list)"
   ]
  }
 ],
 "metadata": {
  "kernelspec": {
   "display_name": "Python 3 (ipykernel)",
   "language": "python",
   "name": "python3"
  },
  "language_info": {
   "codemirror_mode": {
    "name": "ipython",
    "version": 3
   },
   "file_extension": ".py",
   "mimetype": "text/x-python",
   "name": "python",
   "nbconvert_exporter": "python",
   "pygments_lexer": "ipython3",
   "version": "3.10.7"
  }
 },
 "nbformat": 4,
 "nbformat_minor": 5
}
