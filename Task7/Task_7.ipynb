{
 "cells": [
  {
   "cell_type": "markdown",
   "id": "bb30529f",
   "metadata": {},
   "source": [
    "1. Write a program that calculate the probability depending on the number of the appearance of either the head or the tail after many flips.<br><br>\n",
    "ex1: <br>\n",
    "Input:<br>\n",
    "The number of flips: 3<br>\n",
    "Head or Tail? tail<br>\n",
    "The number of tail appearance: 2<br>\n",
    "The probability of tail (< 1): 0.5<br>\n",
    "<br>\n",
    "Output:<br>\n",
    "The answer is: 0.375<br>\n",
    "<br>\n",
    "ex2:<br>\n",
    "Input:<br>\n",
    "The number of flips: 2<br>\n",
    "Head or Tail? head<br>\n",
    "The number of head appearance: 1<br>\n",
    "The probability of head (< 1): 0.8<br>\n",
    "<br>\n",
    "Output:<br>\n",
    "The answer is: 0.32<br>"
   ]
  },
  {
   "cell_type": "code",
   "execution_count": 2,
   "id": "d6834ee7",
   "metadata": {},
   "outputs": [],
   "source": [
    "import math"
   ]
  },
  {
   "cell_type": "code",
   "execution_count": 3,
   "id": "a5a0eb0d",
   "metadata": {},
   "outputs": [
    {
     "name": "stdout",
     "output_type": "stream",
     "text": [
      "The number of flips: 3\n",
      "Head or Tail? tail\n",
      "The number of tail appearance: 2\n",
      "The probability of tail (< 1): 0.5\n",
      "The answer is: 0.375\n"
     ]
    }
   ],
   "source": [
    "while True:\n",
    "    try:\n",
    "        n = int(input(\"The number of flips: \")) \n",
    "        h = input(\"Head or Tail? \")\n",
    "        assert(h.lower()==\"tail\" or h.lower()==\"head\")\n",
    "        m = int(input(\"The number of \" + h + \" appearance: \"))\n",
    "        p = float(input(\"The probability of \" + h + \" (< 1): \"))\n",
    "        fac_n=math.factorial(n)\n",
    "        fac_m=math.factorial(m)\n",
    "        fac_n_m=math.factorial(n - m) \n",
    "        result=0\n",
    "        if h == \"head\":\n",
    "            result=fac_n / fac_m * fac_n_m * p ** m * (1 - p) ** (n - m)\n",
    "            print(\"The answer is: \" + str(result))\n",
    "        else:\n",
    "            result=fac_n / fac_m * fac_n_m * (1 - p) ** m * p ** (n - m)\n",
    "            print(\"The answer is: \" + str(result))\n",
    "        break\n",
    "    except ValueError:\n",
    "        print(\"Enter a valid number\")\n",
    "    except AssertionError:\n",
    "        print(\"Enter a valid value\")\n",
    "    except KeyboardInterrupt:\n",
    "        print(\"Keyboard Interrupt\")\n",
    "        exit()"
   ]
  }
 ],
 "metadata": {
  "kernelspec": {
   "display_name": "Python 3 (ipykernel)",
   "language": "python",
   "name": "python3"
  },
  "language_info": {
   "codemirror_mode": {
    "name": "ipython",
    "version": 3
   },
   "file_extension": ".py",
   "mimetype": "text/x-python",
   "name": "python",
   "nbconvert_exporter": "python",
   "pygments_lexer": "ipython3",
   "version": "3.10.7"
  }
 },
 "nbformat": 4,
 "nbformat_minor": 5
}
